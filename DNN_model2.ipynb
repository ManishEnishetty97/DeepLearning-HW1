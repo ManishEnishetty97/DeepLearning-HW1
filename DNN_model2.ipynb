{
  "nbformat": 4,
  "nbformat_minor": 0,
  "metadata": {
    "colab": {
      "name": "DNN_model2.ipynb",
      "provenance": [],
      "authorship_tag": "ABX9TyMJTeOqieGuYATJameO8m9K",
      "include_colab_link": true
    },
    "kernelspec": {
      "name": "python3",
      "display_name": "Python 3"
    }
  },
  "cells": [
    {
      "cell_type": "markdown",
      "metadata": {
        "id": "view-in-github",
        "colab_type": "text"
      },
      "source": [
        "<a href=\"https://colab.research.google.com/github/ManishEnishetty97/DeepLearning-HW1/blob/main/DNN_model2.ipynb\" target=\"_parent\"><img src=\"https://colab.research.google.com/assets/colab-badge.svg\" alt=\"Open In Colab\"/></a>"
      ]
    },
    {
      "cell_type": "markdown",
      "metadata": {
        "id": "UU0t4dsA0--N"
      },
      "source": [
        "**Deep Neural Network Model 2**"
      ]
    },
    {
      "cell_type": "code",
      "metadata": {
        "id": "eZpWnid4zjmc"
      },
      "source": [
        "import torch\n",
        "import math\n",
        "import numpy as np\n",
        "import matplotlib as plt\n",
        "import torchvision\n",
        "import torch.nn as nn\n",
        "import torch.nn.functional as F\n",
        "from torchsummary import summary\n"
      ],
      "execution_count": 1,
      "outputs": []
    },
    {
      "cell_type": "code",
      "metadata": {
        "id": "5z8VUD4zzm5K"
      },
      "source": [
        "X=torch.linspace(0,3,300)\n",
        "Y=torch.sin(5*math.pi*X)\n",
        "target=Y[:]"
      ],
      "execution_count": 2,
      "outputs": []
    },
    {
      "cell_type": "markdown",
      "metadata": {
        "id": "fzJfoloW3viY"
      },
      "source": [
        "I have Included 3 hidden layers here to make Neural network as Deep Neural Netowrk."
      ]
    },
    {
      "cell_type": "code",
      "metadata": {
        "colab": {
          "base_uri": "https://localhost:8080/"
        },
        "id": "LLAoHjQEzrTR",
        "outputId": "94bd0626-3cd6-4ad6-ef1e-48d36507389d"
      },
      "source": [
        "class Fun4(nn.Module):\n",
        "  def __init__(self,X):\n",
        "    super(Fun4,self).__init__()\n",
        "    self.fc1=nn.Linear(300,50)\n",
        "    self.fc2=nn.Linear(50,45)\n",
        "    self.fc3=nn.Linear(45,50)\n",
        "    self.fc4=nn.Linear(50,90)\n",
        "    self.fc5=nn.Linear(90,300)\n",
        "\n",
        "  def forward(self,X):\n",
        "    out=self.fc1(X)\n",
        "    out=F.relu(self.fc2(out))\n",
        "    out=F.relu(self.fc3(out))\n",
        "    out=F.relu(self.fc4(out))\n",
        "    out=self.fc5(out)\n",
        "    return out\n",
        "    \n",
        "model=Fun4(X)\n",
        "\n",
        "print(model)"
      ],
      "execution_count": 8,
      "outputs": [
        {
          "output_type": "stream",
          "text": [
            "Fun4(\n",
            "  (fc1): Linear(in_features=300, out_features=50, bias=True)\n",
            "  (fc2): Linear(in_features=50, out_features=45, bias=True)\n",
            "  (fc3): Linear(in_features=45, out_features=50, bias=True)\n",
            "  (fc4): Linear(in_features=50, out_features=90, bias=True)\n",
            "  (fc5): Linear(in_features=90, out_features=300, bias=True)\n",
            ")\n"
          ],
          "name": "stdout"
        }
      ]
    },
    {
      "cell_type": "markdown",
      "metadata": {
        "id": "F9U405ox37KQ"
      },
      "source": [
        "The Total number of trainable parameters are 51,535"
      ]
    },
    {
      "cell_type": "code",
      "metadata": {
        "colab": {
          "base_uri": "https://localhost:8080/"
        },
        "id": "ZW60DlSQz9xu",
        "outputId": "a1725d49-9017-4854-df62-b12fa99854fc"
      },
      "source": [
        "pytorch_total_params = sum(p.numel() for p in model.parameters() if p.requires_grad)\n",
        "print(pytorch_total_params)"
      ],
      "execution_count": 9,
      "outputs": [
        {
          "output_type": "stream",
          "text": [
            "51535\n"
          ],
          "name": "stdout"
        }
      ]
    },
    {
      "cell_type": "markdown",
      "metadata": {
        "id": "bUf_GAmU4Cbq"
      },
      "source": [
        "Let us Train the model and visualise the loss for the DNN model 2"
      ]
    },
    {
      "cell_type": "code",
      "metadata": {
        "colab": {
          "base_uri": "https://localhost:8080/"
        },
        "id": "L5lttJvt0ezP",
        "outputId": "7b9bacf9-512a-4c8f-9df7-c46de5951234"
      },
      "source": [
        "criterion=nn.MSELoss()\n",
        "optimizer = torch.optim.Adam(model.parameters(), lr=0.001)\n",
        "loss_list=[]\n",
        "final=torch.tensor(0)\n",
        "Epochs=10\n",
        "for epoch in range(Epochs):\n",
        "  running_loss=0.0\n",
        "  for i in range(300):\n",
        "    optimizer.zero_grad()\n",
        "    outputs=model(X)\n",
        "    loss=criterion(outputs,target)\n",
        "    running_loss+=loss.item()\n",
        "    loss_list.append(running_loss)\n",
        "    loss.backward()\n",
        "    optimizer.step()\n",
        "  print('[%d, %5d] loss: %.8f' %(epoch + 1, i, running_loss ))\n",
        "  final=(outputs.flatten())\n"
      ],
      "execution_count": 10,
      "outputs": [
        {
          "output_type": "stream",
          "text": [
            "[1,   299] loss: 5.36692527\n",
            "[2,   299] loss: 0.00000000\n",
            "[3,   299] loss: 0.00000000\n",
            "[4,   299] loss: 0.00512852\n",
            "[5,   299] loss: 0.00355921\n",
            "[6,   299] loss: 0.00398528\n",
            "[7,   299] loss: 0.00003777\n",
            "[8,   299] loss: 0.00454821\n",
            "[9,   299] loss: 0.00397214\n",
            "[10,   299] loss: 0.01366276\n"
          ],
          "name": "stdout"
        }
      ]
    },
    {
      "cell_type": "code",
      "metadata": {
        "colab": {
          "base_uri": "https://localhost:8080/",
          "height": 312
        },
        "id": "7VKidwfe0o4u",
        "outputId": "f42bcebf-fbba-44b1-acb5-e4c88083a945"
      },
      "source": [
        "import matplotlib.pyplot as plt\n",
        "plt.plot(loss_list)\n",
        "plt.xlabel('Epochs')\n",
        "plt.ylabel('Loss')\n",
        "plt.title('ModelLoss4')"
      ],
      "execution_count": 11,
      "outputs": [
        {
          "output_type": "execute_result",
          "data": {
            "text/plain": [
              "Text(0.5, 1.0, 'ModelLoss4')"
            ]
          },
          "metadata": {
            "tags": []
          },
          "execution_count": 11
        },
        {
          "output_type": "display_data",
          "data": {
            "image/png": "[encoded data removed]",
            "text/plain": [
              "<Figure size 432x288 with 1 Axes>"
            ]
          },
          "metadata": {
            "tags": [],
            "needs_background": "light"
          }
        }
      ]
    },
    {
      "cell_type": "code",
      "metadata": {
        "colab": {
          "base_uri": "https://localhost:8080/",
          "height": 571
        },
        "id": "WHc_WLcT02p4",
        "outputId": "c92afaab-1562-4415-c1d9-1b0b37732b78"
      },
      "source": [
        "plt.scatter(X,Y)\n",
        "graph2=final\n",
        "final_model=graph2.detach()\n",
        "plt.plot(X,final_model)\n",
        "summary(model,(300,300))"
      ],
      "execution_count": 15,
      "outputs": [
        {
          "output_type": "stream",
          "text": [
            "----------------------------------------------------------------\n",
            "        Layer (type)               Output Shape         Param #\n",
            "================================================================\n",
            "            Linear-1              [-1, 300, 50]          15,050\n",
            "            Linear-2              [-1, 300, 45]           2,295\n",
            "            Linear-3              [-1, 300, 50]           2,300\n",
            "            Linear-4              [-1, 300, 90]           4,590\n",
            "            Linear-5             [-1, 300, 300]          27,300\n",
            "================================================================\n",
            "Total params: 51,535\n",
            "Trainable params: 51,535\n",
            "Non-trainable params: 0\n",
            "----------------------------------------------------------------\n",
            "Input size (MB): 0.34\n",
            "Forward/backward pass size (MB): 1.22\n",
            "Params size (MB): 0.20\n",
            "Estimated Total Size (MB): 1.76\n",
            "----------------------------------------------------------------\n"
          ],
          "name": "stdout"
        },
        {
          "output_type": "display_data",
          "data": {
            "image/png": "[encoded data removed]",
            "text/plain": [
              "<Figure size 432x288 with 1 Axes>"
            ]
          },
          "metadata": {
            "tags": [],
            "needs_background": "light"
          }
        }
      ]
    }
  ]
}