{
  "nbformat": 4,
  "nbformat_minor": 0,
  "metadata": {
    "kernelspec": {
      "display_name": "Python 3",
      "language": "python",
      "name": "python3"
    },
    "language_info": {
      "codemirror_mode": {
        "name": "ipython",
        "version": 3
      },
      "file_extension": ".py",
      "mimetype": "text/x-python",
      "name": "python",
      "nbconvert_exporter": "python",
      "pygments_lexer": "ipython3",
      "version": "3.8.5"
    },
    "colab": {
      "name": "PCA.ipynb",
      "provenance": [],
      "include_colab_link": true
    },
    "widgets": {
      "application/vnd.jupyter.widget-state+json": {
        "99ec8e0d0e9e4ec694a52be312d7c8c3": {
          "model_module": "@jupyter-widgets/controls",
          "model_name": "HBoxModel",
          "state": {
            "_view_name": "HBoxView",
            "_dom_classes": [],
            "_model_name": "HBoxModel",
            "_view_module": "@jupyter-widgets/controls",
            "_model_module_version": "1.5.0",
            "_view_count": null,
            "_view_module_version": "1.5.0",
            "box_style": "",
            "layout": "IPY_MODEL_d517292ee35f4ae7abfef8012fb6cdba",
            "_model_module": "@jupyter-widgets/controls",
            "children": [
              "IPY_MODEL_dcf53b077db1458586fa921056db9395",
              "IPY_MODEL_da91230729a0458993dd462433b6909e"
            ]
          }
        },
        "d517292ee35f4ae7abfef8012fb6cdba": {
          "model_module": "@jupyter-widgets/base",
          "model_name": "LayoutModel",
          "state": {
            "_view_name": "LayoutView",
            "grid_template_rows": null,
            "right": null,
            "justify_content": null,
            "_view_module": "@jupyter-widgets/base",
            "overflow": null,
            "_model_module_version": "1.2.0",
            "_view_count": null,
            "flex_flow": null,
            "width": null,
            "min_width": null,
            "border": null,
            "align_items": null,
            "bottom": null,
            "_model_module": "@jupyter-widgets/base",
            "top": null,
            "grid_column": null,
            "overflow_y": null,
            "overflow_x": null,
            "grid_auto_flow": null,
            "grid_area": null,
            "grid_template_columns": null,
            "flex": null,
            "_model_name": "LayoutModel",
            "justify_items": null,
            "grid_row": null,
            "max_height": null,
            "align_content": null,
            "visibility": null,
            "align_self": null,
            "height": null,
            "min_height": null,
            "padding": null,
            "grid_auto_rows": null,
            "grid_gap": null,
            "max_width": null,
            "order": null,
            "_view_module_version": "1.2.0",
            "grid_template_areas": null,
            "object_position": null,
            "object_fit": null,
            "grid_auto_columns": null,
            "margin": null,
            "display": null,
            "left": null
          }
        },
        "dcf53b077db1458586fa921056db9395": {
          "model_module": "@jupyter-widgets/controls",
          "model_name": "FloatProgressModel",
          "state": {
            "_view_name": "ProgressView",
            "style": "IPY_MODEL_10a07e609793449cb1a6ba89cabca838",
            "_dom_classes": [],
            "description": "",
            "_model_name": "FloatProgressModel",
            "bar_style": "info",
            "max": 1,
            "_view_module": "@jupyter-widgets/controls",
            "_model_module_version": "1.5.0",
            "value": 1,
            "_view_count": null,
            "_view_module_version": "1.5.0",
            "orientation": "horizontal",
            "min": 0,
            "description_tooltip": null,
            "_model_module": "@jupyter-widgets/controls",
            "layout": "IPY_MODEL_247a53d5c4a54839ba6f7a93eb1e75f2"
          }
        },
        "da91230729a0458993dd462433b6909e": {
          "model_module": "@jupyter-widgets/controls",
          "model_name": "HTMLModel",
          "state": {
            "_view_name": "HTMLView",
            "style": "IPY_MODEL_91cf4ff7bfdd47b08f0e9a1b491c903a",
            "_dom_classes": [],
            "description": "",
            "_model_name": "HTMLModel",
            "placeholder": "​",
            "_view_module": "@jupyter-widgets/controls",
            "_model_module_version": "1.5.0",
            "value": " 9920512/? [00:20&lt;00:00, 1472151.46it/s]",
            "_view_count": null,
            "_view_module_version": "1.5.0",
            "description_tooltip": null,
            "_model_module": "@jupyter-widgets/controls",
            "layout": "IPY_MODEL_72ce440d5a2346a5b62548da4e926f98"
          }
        },
        "10a07e609793449cb1a6ba89cabca838": {
          "model_module": "@jupyter-widgets/controls",
          "model_name": "ProgressStyleModel",
          "state": {
            "_view_name": "StyleView",
            "_model_name": "ProgressStyleModel",
            "description_width": "initial",
            "_view_module": "@jupyter-widgets/base",
            "_model_module_version": "1.5.0",
            "_view_count": null,
            "_view_module_version": "1.2.0",
            "bar_color": null,
            "_model_module": "@jupyter-widgets/controls"
          }
        },
        "247a53d5c4a54839ba6f7a93eb1e75f2": {
          "model_module": "@jupyter-widgets/base",
          "model_name": "LayoutModel",
          "state": {
            "_view_name": "LayoutView",
            "grid_template_rows": null,
            "right": null,
            "justify_content": null,
            "_view_module": "@jupyter-widgets/base",
            "overflow": null,
            "_model_module_version": "1.2.0",
            "_view_count": null,
            "flex_flow": null,
            "width": null,
            "min_width": null,
            "border": null,
            "align_items": null,
            "bottom": null,
            "_model_module": "@jupyter-widgets/base",
            "top": null,
            "grid_column": null,
            "overflow_y": null,
            "overflow_x": null,
            "grid_auto_flow": null,
            "grid_area": null,
            "grid_template_columns": null,
            "flex": null,
            "_model_name": "LayoutModel",
            "justify_items": null,
            "grid_row": null,
            "max_height": null,
            "align_content": null,
            "visibility": null,
            "align_self": null,
            "height": null,
            "min_height": null,
            "padding": null,
            "grid_auto_rows": null,
            "grid_gap": null,
            "max_width": null,
            "order": null,
            "_view_module_version": "1.2.0",
            "grid_template_areas": null,
            "object_position": null,
            "object_fit": null,
            "grid_auto_columns": null,
            "margin": null,
            "display": null,
            "left": null
          }
        },
        "91cf4ff7bfdd47b08f0e9a1b491c903a": {
          "model_module": "@jupyter-widgets/controls",
          "model_name": "DescriptionStyleModel",
          "state": {
            "_view_name": "StyleView",
            "_model_name": "DescriptionStyleModel",
            "description_width": "",
            "_view_module": "@jupyter-widgets/base",
            "_model_module_version": "1.5.0",
            "_view_count": null,
            "_view_module_version": "1.2.0",
            "_model_module": "@jupyter-widgets/controls"
          }
        },
        "72ce440d5a2346a5b62548da4e926f98": {
          "model_module": "@jupyter-widgets/base",
          "model_name": "LayoutModel",
          "state": {
            "_view_name": "LayoutView",
            "grid_template_rows": null,
            "right": null,
            "justify_content": null,
            "_view_module": "@jupyter-widgets/base",
            "overflow": null,
            "_model_module_version": "1.2.0",
            "_view_count": null,
            "flex_flow": null,
            "width": null,
            "min_width": null,
            "border": null,
            "align_items": null,
            "bottom": null,
            "_model_module": "@jupyter-widgets/base",
            "top": null,
            "grid_column": null,
            "overflow_y": null,
            "overflow_x": null,
            "grid_auto_flow": null,
            "grid_area": null,
            "grid_template_columns": null,
            "flex": null,
            "_model_name": "LayoutModel",
            "justify_items": null,
            "grid_row": null,
            "max_height": null,
            "align_content": null,
            "visibility": null,
            "align_self": null,
            "height": null,
            "min_height": null,
            "padding": null,
            "grid_auto_rows": null,
            "grid_gap": null,
            "max_width": null,
            "order": null,
            "_view_module_version": "1.2.0",
            "grid_template_areas": null,
            "object_position": null,
            "object_fit": null,
            "grid_auto_columns": null,
            "margin": null,
            "display": null,
            "left": null
          }
        },
        "bbc1a3abad0641b7966edfa1460bf007": {
          "model_module": "@jupyter-widgets/controls",
          "model_name": "HBoxModel",
          "state": {
            "_view_name": "HBoxView",
            "_dom_classes": [],
            "_model_name": "HBoxModel",
            "_view_module": "@jupyter-widgets/controls",
            "_model_module_version": "1.5.0",
            "_view_count": null,
            "_view_module_version": "1.5.0",
            "box_style": "",
            "layout": "IPY_MODEL_cf909f64a2004d06aec0d3625118a1af",
            "_model_module": "@jupyter-widgets/controls",
            "children": [
              "IPY_MODEL_81cbe5c445eb423490187e0626f83d1a",
              "IPY_MODEL_43d5cc45c10644a38122b518aaf4240b"
            ]
          }
        },
        "cf909f64a2004d06aec0d3625118a1af": {
          "model_module": "@jupyter-widgets/base",
          "model_name": "LayoutModel",
          "state": {
            "_view_name": "LayoutView",
            "grid_template_rows": null,
            "right": null,
            "justify_content": null,
            "_view_module": "@jupyter-widgets/base",
            "overflow": null,
            "_model_module_version": "1.2.0",
            "_view_count": null,
            "flex_flow": null,
            "width": null,
            "min_width": null,
            "border": null,
            "align_items": null,
            "bottom": null,
            "_model_module": "@jupyter-widgets/base",
            "top": null,
            "grid_column": null,
            "overflow_y": null,
            "overflow_x": null,
            "grid_auto_flow": null,
            "grid_area": null,
            "grid_template_columns": null,
            "flex": null,
            "_model_name": "LayoutModel",
            "justify_items": null,
            "grid_row": null,
            "max_height": null,
            "align_content": null,
            "visibility": null,
            "align_self": null,
            "height": null,
            "min_height": null,
            "padding": null,
            "grid_auto_rows": null,
            "grid_gap": null,
            "max_width": null,
            "order": null,
            "_view_module_version": "1.2.0",
            "grid_template_areas": null,
            "object_position": null,
            "object_fit": null,
            "grid_auto_columns": null,
            "margin": null,
            "display": null,
            "left": null
          }
        },
        "81cbe5c445eb423490187e0626f83d1a": {
          "model_module": "@jupyter-widgets/controls",
          "model_name": "FloatProgressModel",
          "state": {
            "_view_name": "ProgressView",
            "style": "IPY_MODEL_485deabd177d4ac5bfd1d610751855e3",
            "_dom_classes": [],
            "description": "",
            "_model_name": "FloatProgressModel",
            "bar_style": "success",
            "max": 1,
            "_view_module": "@jupyter-widgets/controls",
            "_model_module_version": "1.5.0",
            "value": 1,
            "_view_count": null,
            "_view_module_version": "1.5.0",
            "orientation": "horizontal",
            "min": 0,
            "description_tooltip": null,
            "_model_module": "@jupyter-widgets/controls",
            "layout": "IPY_MODEL_03905415c48c4ccda7d6c9f6deaa3c47"
          }
        },
        "43d5cc45c10644a38122b518aaf4240b": {
          "model_module": "@jupyter-widgets/controls",
          "model_name": "HTMLModel",
          "state": {
            "_view_name": "HTMLView",
            "style": "IPY_MODEL_e4d097766d6f41349722c724f08a08c1",
            "_dom_classes": [],
            "description": "",
            "_model_name": "HTMLModel",
            "placeholder": "​",
            "_view_module": "@jupyter-widgets/controls",
            "_model_module_version": "1.5.0",
            "value": " 32768/? [00:00&lt;00:00, 151308.00it/s]",
            "_view_count": null,
            "_view_module_version": "1.5.0",
            "description_tooltip": null,
            "_model_module": "@jupyter-widgets/controls",
            "layout": "IPY_MODEL_0df793e988c94dd3b33d3347ddc3be46"
          }
        },
        "485deabd177d4ac5bfd1d610751855e3": {
          "model_module": "@jupyter-widgets/controls",
          "model_name": "ProgressStyleModel",
          "state": {
            "_view_name": "StyleView",
            "_model_name": "ProgressStyleModel",
            "description_width": "initial",
            "_view_module": "@jupyter-widgets/base",
            "_model_module_version": "1.5.0",
            "_view_count": null,
            "_view_module_version": "1.2.0",
            "bar_color": null,
            "_model_module": "@jupyter-widgets/controls"
          }
        },
        "03905415c48c4ccda7d6c9f6deaa3c47": {
          "model_module": "@jupyter-widgets/base",
          "model_name": "LayoutModel",
          "state": {
            "_view_name": "LayoutView",
            "grid_template_rows": null,
            "right": null,
            "justify_content": null,
            "_view_module": "@jupyter-widgets/base",
            "overflow": null,
            "_model_module_version": "1.2.0",
            "_view_count": null,
            "flex_flow": null,
            "width": null,
            "min_width": null,
            "border": null,
            "align_items": null,
            "bottom": null,
            "_model_module": "@jupyter-widgets/base",
            "top": null,
            "grid_column": null,
            "overflow_y": null,
            "overflow_x": null,
            "grid_auto_flow": null,
            "grid_area": null,
            "grid_template_columns": null,
            "flex": null,
            "_model_name": "LayoutModel",
            "justify_items": null,
            "grid_row": null,
            "max_height": null,
            "align_content": null,
            "visibility": null,
            "align_self": null,
            "height": null,
            "min_height": null,
            "padding": null,
            "grid_auto_rows": null,
            "grid_gap": null,
            "max_width": null,
            "order": null,
            "_view_module_version": "1.2.0",
            "grid_template_areas": null,
            "object_position": null,
            "object_fit": null,
            "grid_auto_columns": null,
            "margin": null,
            "display": null,
            "left": null
          }
        },
        "e4d097766d6f41349722c724f08a08c1": {
          "model_module": "@jupyter-widgets/controls",
          "model_name": "DescriptionStyleModel",
          "state": {
            "_view_name": "StyleView",
            "_model_name": "DescriptionStyleModel",
            "description_width": "",
            "_view_module": "@jupyter-widgets/base",
            "_model_module_version": "1.5.0",
            "_view_count": null,
            "_view_module_version": "1.2.0",
            "_model_module": "@jupyter-widgets/controls"
          }
        },
        "0df793e988c94dd3b33d3347ddc3be46": {
          "model_module": "@jupyter-widgets/base",
          "model_name": "LayoutModel",
          "state": {
            "_view_name": "LayoutView",
            "grid_template_rows": null,
            "right": null,
            "justify_content": null,
            "_view_module": "@jupyter-widgets/base",
            "overflow": null,
            "_model_module_version": "1.2.0",
            "_view_count": null,
            "flex_flow": null,
            "width": null,
            "min_width": null,
            "border": null,
            "align_items": null,
            "bottom": null,
            "_model_module": "@jupyter-widgets/base",
            "top": null,
            "grid_column": null,
            "overflow_y": null,
            "overflow_x": null,
            "grid_auto_flow": null,
            "grid_area": null,
            "grid_template_columns": null,
            "flex": null,
            "_model_name": "LayoutModel",
            "justify_items": null,
            "grid_row": null,
            "max_height": null,
            "align_content": null,
            "visibility": null,
            "align_self": null,
            "height": null,
            "min_height": null,
            "padding": null,
            "grid_auto_rows": null,
            "grid_gap": null,
            "max_width": null,
            "order": null,
            "_view_module_version": "1.2.0",
            "grid_template_areas": null,
            "object_position": null,
            "object_fit": null,
            "grid_auto_columns": null,
            "margin": null,
            "display": null,
            "left": null
          }
        },
        "eca0f9389a2942e18ffe782ac5c159ea": {
          "model_module": "@jupyter-widgets/controls",
          "model_name": "HBoxModel",
          "state": {
            "_view_name": "HBoxView",
            "_dom_classes": [],
            "_model_name": "HBoxModel",
            "_view_module": "@jupyter-widgets/controls",
            "_model_module_version": "1.5.0",
            "_view_count": null,
            "_view_module_version": "1.5.0",
            "box_style": "",
            "layout": "IPY_MODEL_2bb83297a1c4406faf5a2a987508439c",
            "_model_module": "@jupyter-widgets/controls",
            "children": [
              "IPY_MODEL_d46540f1eb4f4559ab17a0749b5cb5b4",
              "IPY_MODEL_304d2cb66d57460f84ac44a899ef530c"
            ]
          }
        },
        "2bb83297a1c4406faf5a2a987508439c": {
          "model_module": "@jupyter-widgets/base",
          "model_name": "LayoutModel",
          "state": {
            "_view_name": "LayoutView",
            "grid_template_rows": null,
            "right": null,
            "justify_content": null,
            "_view_module": "@jupyter-widgets/base",
            "overflow": null,
            "_model_module_version": "1.2.0",
            "_view_count": null,
            "flex_flow": null,
            "width": null,
            "min_width": null,
            "border": null,
            "align_items": null,
            "bottom": null,
            "_model_module": "@jupyter-widgets/base",
            "top": null,
            "grid_column": null,
            "overflow_y": null,
            "overflow_x": null,
            "grid_auto_flow": null,
            "grid_area": null,
            "grid_template_columns": null,
            "flex": null,
            "_model_name": "LayoutModel",
            "justify_items": null,
            "grid_row": null,
            "max_height": null,
            "align_content": null,
            "visibility": null,
            "align_self": null,
            "height": null,
            "min_height": null,
            "padding": null,
            "grid_auto_rows": null,
            "grid_gap": null,
            "max_width": null,
            "order": null,
            "_view_module_version": "1.2.0",
            "grid_template_areas": null,
            "object_position": null,
            "object_fit": null,
            "grid_auto_columns": null,
            "margin": null,
            "display": null,
            "left": null
          }
        },
        "d46540f1eb4f4559ab17a0749b5cb5b4": {
          "model_module": "@jupyter-widgets/controls",
          "model_name": "FloatProgressModel",
          "state": {
            "_view_name": "ProgressView",
            "style": "IPY_MODEL_035fd1e15c724e8bbef698cd23e68551",
            "_dom_classes": [],
            "description": "",
            "_model_name": "FloatProgressModel",
            "bar_style": "info",
            "max": 1,
            "_view_module": "@jupyter-widgets/controls",
            "_model_module_version": "1.5.0",
            "value": 1,
            "_view_count": null,
            "_view_module_version": "1.5.0",
            "orientation": "horizontal",
            "min": 0,
            "description_tooltip": null,
            "_model_module": "@jupyter-widgets/controls",
            "layout": "IPY_MODEL_f8226c02863c4e49a6d82bbd810d8213"
          }
        },
        "304d2cb66d57460f84ac44a899ef530c": {
          "model_module": "@jupyter-widgets/controls",
          "model_name": "HTMLModel",
          "state": {
            "_view_name": "HTMLView",
            "style": "IPY_MODEL_cf07a36e9ced4d219aa8e4ec460deafe",
            "_dom_classes": [],
            "description": "",
            "_model_name": "HTMLModel",
            "placeholder": "​",
            "_view_module": "@jupyter-widgets/controls",
            "_model_module_version": "1.5.0",
            "value": " 1654784/? [00:18&lt;00:00, 936508.57it/s]",
            "_view_count": null,
            "_view_module_version": "1.5.0",
            "description_tooltip": null,
            "_model_module": "@jupyter-widgets/controls",
            "layout": "IPY_MODEL_4fcfef0a85564ff4921e0a84842617f3"
          }
        },
        "035fd1e15c724e8bbef698cd23e68551": {
          "model_module": "@jupyter-widgets/controls",
          "model_name": "ProgressStyleModel",
          "state": {
            "_view_name": "StyleView",
            "_model_name": "ProgressStyleModel",
            "description_width": "initial",
            "_view_module": "@jupyter-widgets/base",
            "_model_module_version": "1.5.0",
            "_view_count": null,
            "_view_module_version": "1.2.0",
            "bar_color": null,
            "_model_module": "@jupyter-widgets/controls"
          }
        },
        "f8226c02863c4e49a6d82bbd810d8213": {
          "model_module": "@jupyter-widgets/base",
          "model_name": "LayoutModel",
          "state": {
            "_view_name": "LayoutView",
            "grid_template_rows": null,
            "right": null,
            "justify_content": null,
            "_view_module": "@jupyter-widgets/base",
            "overflow": null,
            "_model_module_version": "1.2.0",
            "_view_count": null,
            "flex_flow": null,
            "width": null,
            "min_width": null,
            "border": null,
            "align_items": null,
            "bottom": null,
            "_model_module": "@jupyter-widgets/base",
            "top": null,
            "grid_column": null,
            "overflow_y": null,
            "overflow_x": null,
            "grid_auto_flow": null,
            "grid_area": null,
            "grid_template_columns": null,
            "flex": null,
            "_model_name": "LayoutModel",
            "justify_items": null,
            "grid_row": null,
            "max_height": null,
            "align_content": null,
            "visibility": null,
            "align_self": null,
            "height": null,
            "min_height": null,
            "padding": null,
            "grid_auto_rows": null,
            "grid_gap": null,
            "max_width": null,
            "order": null,
            "_view_module_version": "1.2.0",
            "grid_template_areas": null,
            "object_position": null,
            "object_fit": null,
            "grid_auto_columns": null,
            "margin": null,
            "display": null,
            "left": null
          }
        },
        "cf07a36e9ced4d219aa8e4ec460deafe": {
          "model_module": "@jupyter-widgets/controls",
          "model_name": "DescriptionStyleModel",
          "state": {
            "_view_name": "StyleView",
            "_model_name": "DescriptionStyleModel",
            "description_width": "",
            "_view_module": "@jupyter-widgets/base",
            "_model_module_version": "1.5.0",
            "_view_count": null,
            "_view_module_version": "1.2.0",
            "_model_module": "@jupyter-widgets/controls"
          }
        },
        "4fcfef0a85564ff4921e0a84842617f3": {
          "model_module": "@jupyter-widgets/base",
          "model_name": "LayoutModel",
          "state": {
            "_view_name": "LayoutView",
            "grid_template_rows": null,
            "right": null,
            "justify_content": null,
            "_view_module": "@jupyter-widgets/base",
            "overflow": null,
            "_model_module_version": "1.2.0",
            "_view_count": null,
            "flex_flow": null,
            "width": null,
            "min_width": null,
            "border": null,
            "align_items": null,
            "bottom": null,
            "_model_module": "@jupyter-widgets/base",
            "top": null,
            "grid_column": null,
            "overflow_y": null,
            "overflow_x": null,
            "grid_auto_flow": null,
            "grid_area": null,
            "grid_template_columns": null,
            "flex": null,
            "_model_name": "LayoutModel",
            "justify_items": null,
            "grid_row": null,
            "max_height": null,
            "align_content": null,
            "visibility": null,
            "align_self": null,
            "height": null,
            "min_height": null,
            "padding": null,
            "grid_auto_rows": null,
            "grid_gap": null,
            "max_width": null,
            "order": null,
            "_view_module_version": "1.2.0",
            "grid_template_areas": null,
            "object_position": null,
            "object_fit": null,
            "grid_auto_columns": null,
            "margin": null,
            "display": null,
            "left": null
          }
        },
        "c118db0291954913b458635a79c80e5c": {
          "model_module": "@jupyter-widgets/controls",
          "model_name": "HBoxModel",
          "state": {
            "_view_name": "HBoxView",
            "_dom_classes": [],
            "_model_name": "HBoxModel",
            "_view_module": "@jupyter-widgets/controls",
            "_model_module_version": "1.5.0",
            "_view_count": null,
            "_view_module_version": "1.5.0",
            "box_style": "",
            "layout": "IPY_MODEL_07a4419335f04e6ab9c6b000cd304b27",
            "_model_module": "@jupyter-widgets/controls",
            "children": [
              "IPY_MODEL_22e46a7e58ee4c0980f48627e3106f2d",
              "IPY_MODEL_1610beb44c684d3fa53d5b44c67be2a0"
            ]
          }
        },
        "07a4419335f04e6ab9c6b000cd304b27": {
          "model_module": "@jupyter-widgets/base",
          "model_name": "LayoutModel",
          "state": {
            "_view_name": "LayoutView",
            "grid_template_rows": null,
            "right": null,
            "justify_content": null,
            "_view_module": "@jupyter-widgets/base",
            "overflow": null,
            "_model_module_version": "1.2.0",
            "_view_count": null,
            "flex_flow": null,
            "width": null,
            "min_width": null,
            "border": null,
            "align_items": null,
            "bottom": null,
            "_model_module": "@jupyter-widgets/base",
            "top": null,
            "grid_column": null,
            "overflow_y": null,
            "overflow_x": null,
            "grid_auto_flow": null,
            "grid_area": null,
            "grid_template_columns": null,
            "flex": null,
            "_model_name": "LayoutModel",
            "justify_items": null,
            "grid_row": null,
            "max_height": null,
            "align_content": null,
            "visibility": null,
            "align_self": null,
            "height": null,
            "min_height": null,
            "padding": null,
            "grid_auto_rows": null,
            "grid_gap": null,
            "max_width": null,
            "order": null,
            "_view_module_version": "1.2.0",
            "grid_template_areas": null,
            "object_position": null,
            "object_fit": null,
            "grid_auto_columns": null,
            "margin": null,
            "display": null,
            "left": null
          }
        },
        "22e46a7e58ee4c0980f48627e3106f2d": {
          "model_module": "@jupyter-widgets/controls",
          "model_name": "FloatProgressModel",
          "state": {
            "_view_name": "ProgressView",
            "style": "IPY_MODEL_1d2f4372bcd544aebac833a48a2cc0c6",
            "_dom_classes": [],
            "description": "  0%",
            "_model_name": "FloatProgressModel",
            "bar_style": "info",
            "max": 1,
            "_view_module": "@jupyter-widgets/controls",
            "_model_module_version": "1.5.0",
            "value": 0,
            "_view_count": null,
            "_view_module_version": "1.5.0",
            "orientation": "horizontal",
            "min": 0,
            "description_tooltip": null,
            "_model_module": "@jupyter-widgets/controls",
            "layout": "IPY_MODEL_65af5416a91348e7b1c95b3cbb23bb02"
          }
        },
        "1610beb44c684d3fa53d5b44c67be2a0": {
          "model_module": "@jupyter-widgets/controls",
          "model_name": "HTMLModel",
          "state": {
            "_view_name": "HTMLView",
            "style": "IPY_MODEL_12be531b835b4687bd57b5d8d8492b43",
            "_dom_classes": [],
            "description": "",
            "_model_name": "HTMLModel",
            "placeholder": "​",
            "_view_module": "@jupyter-widgets/controls",
            "_model_module_version": "1.5.0",
            "value": " 0/4542 [00:00&lt;?, ?it/s]",
            "_view_count": null,
            "_view_module_version": "1.5.0",
            "description_tooltip": null,
            "_model_module": "@jupyter-widgets/controls",
            "layout": "IPY_MODEL_513e046008534e1db87931ed3306a6a1"
          }
        },
        "1d2f4372bcd544aebac833a48a2cc0c6": {
          "model_module": "@jupyter-widgets/controls",
          "model_name": "ProgressStyleModel",
          "state": {
            "_view_name": "StyleView",
            "_model_name": "ProgressStyleModel",
            "description_width": "initial",
            "_view_module": "@jupyter-widgets/base",
            "_model_module_version": "1.5.0",
            "_view_count": null,
            "_view_module_version": "1.2.0",
            "bar_color": null,
            "_model_module": "@jupyter-widgets/controls"
          }
        },
        "65af5416a91348e7b1c95b3cbb23bb02": {
          "model_module": "@jupyter-widgets/base",
          "model_name": "LayoutModel",
          "state": {
            "_view_name": "LayoutView",
            "grid_template_rows": null,
            "right": null,
            "justify_content": null,
            "_view_module": "@jupyter-widgets/base",
            "overflow": null,
            "_model_module_version": "1.2.0",
            "_view_count": null,
            "flex_flow": null,
            "width": null,
            "min_width": null,
            "border": null,
            "align_items": null,
            "bottom": null,
            "_model_module": "@jupyter-widgets/base",
            "top": null,
            "grid_column": null,
            "overflow_y": null,
            "overflow_x": null,
            "grid_auto_flow": null,
            "grid_area": null,
            "grid_template_columns": null,
            "flex": null,
            "_model_name": "LayoutModel",
            "justify_items": null,
            "grid_row": null,
            "max_height": null,
            "align_content": null,
            "visibility": null,
            "align_self": null,
            "height": null,
            "min_height": null,
            "padding": null,
            "grid_auto_rows": null,
            "grid_gap": null,
            "max_width": null,
            "order": null,
            "_view_module_version": "1.2.0",
            "grid_template_areas": null,
            "object_position": null,
            "object_fit": null,
            "grid_auto_columns": null,
            "margin": null,
            "display": null,
            "left": null
          }
        },
        "12be531b835b4687bd57b5d8d8492b43": {
          "model_module": "@jupyter-widgets/controls",
          "model_name": "DescriptionStyleModel",
          "state": {
            "_view_name": "StyleView",
            "_model_name": "DescriptionStyleModel",
            "description_width": "",
            "_view_module": "@jupyter-widgets/base",
            "_model_module_version": "1.5.0",
            "_view_count": null,
            "_view_module_version": "1.2.0",
            "_model_module": "@jupyter-widgets/controls"
          }
        },
        "513e046008534e1db87931ed3306a6a1": {
          "model_module": "@jupyter-widgets/base",
          "model_name": "LayoutModel",
          "state": {
            "_view_name": "LayoutView",
            "grid_template_rows": null,
            "right": null,
            "justify_content": null,
            "_view_module": "@jupyter-widgets/base",
            "overflow": null,
            "_model_module_version": "1.2.0",
            "_view_count": null,
            "flex_flow": null,
            "width": null,
            "min_width": null,
            "border": null,
            "align_items": null,
            "bottom": null,
            "_model_module": "@jupyter-widgets/base",
            "top": null,
            "grid_column": null,
            "overflow_y": null,
            "overflow_x": null,
            "grid_auto_flow": null,
            "grid_area": null,
            "grid_template_columns": null,
            "flex": null,
            "_model_name": "LayoutModel",
            "justify_items": null,
            "grid_row": null,
            "max_height": null,
            "align_content": null,
            "visibility": null,
            "align_self": null,
            "height": null,
            "min_height": null,
            "padding": null,
            "grid_auto_rows": null,
            "grid_gap": null,
            "max_width": null,
            "order": null,
            "_view_module_version": "1.2.0",
            "grid_template_areas": null,
            "object_position": null,
            "object_fit": null,
            "grid_auto_columns": null,
            "margin": null,
            "display": null,
            "left": null
          }
        }
      }
    }
  },
  "cells": [
    {
      "cell_type": "markdown",
      "metadata": {
        "id": "view-in-github",
        "colab_type": "text"
      },
      "source": [
        "<a href=\"https://colab.research.google.com/github/ManishEnishetty97/DeepLearning-HW1/blob/main/PCA.ipynb\" target=\"_parent\"><img src=\"https://colab.research.google.com/assets/colab-badge.svg\" alt=\"Open In Colab\"/></a>"
      ]
    },
    {
      "cell_type": "code",
      "metadata": {
        "id": "5_vGod8VBCe7"
      },
      "source": [
        "import torch\n",
        "import torchvision\n",
        "import pandas as pd\n",
        "from torchsummary import summary\n",
        "import matplotlib.pyplot as plt\n",
        "import torch.nn as nn\n",
        "import torch.nn.functional as F\n",
        "import torch.optim as optim\n",
        "import numpy as np"
      ],
      "execution_count": null,
      "outputs": []
    },
    {
      "cell_type": "code",
      "metadata": {
        "id": "6qDc1-8hBCe9"
      },
      "source": [
        "from torchvision import transforms,datasets"
      ],
      "execution_count": null,
      "outputs": []
    },
    {
      "cell_type": "code",
      "metadata": {
        "colab": {
          "base_uri": "https://localhost:8080/",
          "height": 386,
          "referenced_widgets": [
            "99ec8e0d0e9e4ec694a52be312d7c8c3",
            "d517292ee35f4ae7abfef8012fb6cdba",
            "dcf53b077db1458586fa921056db9395",
            "da91230729a0458993dd462433b6909e",
            "10a07e609793449cb1a6ba89cabca838",
            "247a53d5c4a54839ba6f7a93eb1e75f2",
            "91cf4ff7bfdd47b08f0e9a1b491c903a",
            "72ce440d5a2346a5b62548da4e926f98",
            "bbc1a3abad0641b7966edfa1460bf007",
            "cf909f64a2004d06aec0d3625118a1af",
            "81cbe5c445eb423490187e0626f83d1a",
            "43d5cc45c10644a38122b518aaf4240b",
            "485deabd177d4ac5bfd1d610751855e3",
            "03905415c48c4ccda7d6c9f6deaa3c47",
            "e4d097766d6f41349722c724f08a08c1",
            "0df793e988c94dd3b33d3347ddc3be46",
            "eca0f9389a2942e18ffe782ac5c159ea",
            "2bb83297a1c4406faf5a2a987508439c",
            "d46540f1eb4f4559ab17a0749b5cb5b4",
            "304d2cb66d57460f84ac44a899ef530c",
            "035fd1e15c724e8bbef698cd23e68551",
            "f8226c02863c4e49a6d82bbd810d8213",
            "cf07a36e9ced4d219aa8e4ec460deafe",
            "4fcfef0a85564ff4921e0a84842617f3",
            "c118db0291954913b458635a79c80e5c",
            "07a4419335f04e6ab9c6b000cd304b27",
            "22e46a7e58ee4c0980f48627e3106f2d",
            "1610beb44c684d3fa53d5b44c67be2a0",
            "1d2f4372bcd544aebac833a48a2cc0c6",
            "65af5416a91348e7b1c95b3cbb23bb02",
            "12be531b835b4687bd57b5d8d8492b43",
            "513e046008534e1db87931ed3306a6a1"
          ]
        },
        "id": "Xp7nzriaBCe-",
        "outputId": "e4cd0ad3-2bbe-4c75-b217-a29b3d9dbf78"
      },
      "source": [
        "train=datasets.MNIST(\"\",train=True,download=True,transform=transforms.Compose([transforms.ToTensor()]))\n",
        "test=datasets.MNIST(\"\",train=False,download=True,transform=transforms.Compose([transforms.ToTensor()]))"
      ],
      "execution_count": null,
      "outputs": [
        {
          "output_type": "stream",
          "text": [
            "Downloading http://yann.lecun.com/exdb/mnist/train-images-idx3-ubyte.gz to MNIST/raw/train-images-idx3-ubyte.gz\n"
          ],
          "name": "stdout"
        },
        {
          "output_type": "display_data",
          "data": {
            "application/vnd.jupyter.widget-view+json": {
              "model_id": "99ec8e0d0e9e4ec694a52be312d7c8c3",
              "version_minor": 0,
              "version_major": 2
            },
            "text/plain": [
              "HBox(children=(FloatProgress(value=1.0, bar_style='info', max=1.0), HTML(value='')))"
            ]
          },
          "metadata": {
            "tags": []
          }
        },
        {
          "output_type": "stream",
          "text": [
            "Extracting MNIST/raw/train-images-idx3-ubyte.gz to MNIST/raw\n",
            "Downloading http://yann.lecun.com/exdb/mnist/train-labels-idx1-ubyte.gz to MNIST/raw/train-labels-idx1-ubyte.gz\n"
          ],
          "name": "stdout"
        },
        {
          "output_type": "display_data",
          "data": {
            "application/vnd.jupyter.widget-view+json": {
              "model_id": "bbc1a3abad0641b7966edfa1460bf007",
              "version_minor": 0,
              "version_major": 2
            },
            "text/plain": [
              "HBox(children=(FloatProgress(value=1.0, bar_style='info', max=1.0), HTML(value='')))"
            ]
          },
          "metadata": {
            "tags": []
          }
        },
        {
          "output_type": "stream",
          "text": [
            "Extracting MNIST/raw/train-labels-idx1-ubyte.gz to MNIST/raw\n",
            "Downloading http://yann.lecun.com/exdb/mnist/t10k-images-idx3-ubyte.gz to MNIST/raw/t10k-images-idx3-ubyte.gz\n",
            "\n"
          ],
          "name": "stdout"
        },
        {
          "output_type": "display_data",
          "data": {
            "application/vnd.jupyter.widget-view+json": {
              "model_id": "eca0f9389a2942e18ffe782ac5c159ea",
              "version_minor": 0,
              "version_major": 2
            },
            "text/plain": [
              "HBox(children=(FloatProgress(value=1.0, bar_style='info', max=1.0), HTML(value='')))"
            ]
          },
          "metadata": {
            "tags": []
          }
        },
        {
          "output_type": "stream",
          "text": [
            "Extracting MNIST/raw/t10k-images-idx3-ubyte.gz to MNIST/raw\n",
            "Downloading http://yann.lecun.com/exdb/mnist/t10k-labels-idx1-ubyte.gz to MNIST/raw/t10k-labels-idx1-ubyte.gz\n"
          ],
          "name": "stdout"
        },
        {
          "output_type": "display_data",
          "data": {
            "application/vnd.jupyter.widget-view+json": {
              "model_id": "c118db0291954913b458635a79c80e5c",
              "version_minor": 0,
              "version_major": 2
            },
            "text/plain": [
              "HBox(children=(FloatProgress(value=1.0, bar_style='info', max=1.0), HTML(value='')))"
            ]
          },
          "metadata": {
            "tags": []
          }
        },
        {
          "output_type": "stream",
          "text": [
            "Extracting MNIST/raw/t10k-labels-idx1-ubyte.gz to MNIST/raw\n",
            "Processing...\n"
          ],
          "name": "stdout"
        },
        {
          "output_type": "stream",
          "text": [
            "/usr/local/lib/python3.6/dist-packages/torchvision/datasets/mnist.py:480: UserWarning: The given NumPy array is not writeable, and PyTorch does not support non-writeable tensors. This means you can write to the underlying (supposedly non-writeable) NumPy array using the tensor. You may want to copy the array to protect its data or make it writeable before converting it to a tensor. This type of warning will be suppressed for the rest of this program. (Triggered internally at  /pytorch/torch/csrc/utils/tensor_numpy.cpp:141.)\n",
            "  return torch.from_numpy(parsed.astype(m[2], copy=False)).view(*s)\n"
          ],
          "name": "stderr"
        },
        {
          "output_type": "stream",
          "text": [
            "Done!\n"
          ],
          "name": "stdout"
        }
      ]
    },
    {
      "cell_type": "code",
      "metadata": {
        "id": "aNXZUlxgBCe-"
      },
      "source": [
        "trainset=torch.utils.data.DataLoader(train,batch_size=100,shuffle=True)\n",
        "testset=torch.utils.data.DataLoader(train,batch_size=100,shuffle=True)"
      ],
      "execution_count": null,
      "outputs": []
    },
    {
      "cell_type": "code",
      "metadata": {
        "id": "nJx06tWbBCe_"
      },
      "source": [
        "for data in trainset:\n",
        "    break"
      ],
      "execution_count": null,
      "outputs": []
    },
    {
      "cell_type": "code",
      "metadata": {
        "id": "y96YPK8QBCe_"
      },
      "source": [
        "x,y=data[0][0],data[1][0]"
      ],
      "execution_count": null,
      "outputs": []
    },
    {
      "cell_type": "code",
      "metadata": {
        "colab": {
          "base_uri": "https://localhost:8080/",
          "height": 265
        },
        "id": "goDAZDuzBCe_",
        "outputId": "5ddd4015-b130-483f-ee2b-dcf6363a0caa"
      },
      "source": [
        "\n",
        "\n",
        "plt.imshow(data[0][0].view(28,28))\n",
        "plt.show()"
      ],
      "execution_count": null,
      "outputs": [
        {
          "output_type": "display_data",
          "data": {
            "image/png": "[encoded data removed]",
            "text/plain": [
              "<Figure size 432x288 with 1 Axes>"
            ]
          },
          "metadata": {
            "tags": [],
            "needs_background": "light"
          }
        }
      ]
    },
    {
      "cell_type": "code",
      "metadata": {
        "colab": {
          "base_uri": "https://localhost:8080/"
        },
        "id": "VRfrxpKNBCfA",
        "outputId": "dac187a3-7ffc-4ecb-e217-9d8db4243de3"
      },
      "source": [
        "print(data[0][0].shape)"
      ],
      "execution_count": null,
      "outputs": [
        {
          "output_type": "stream",
          "text": [
            "torch.Size([1, 28, 28])\n"
          ],
          "name": "stdout"
        }
      ]
    },
    {
      "cell_type": "code",
      "metadata": {
        "colab": {
          "base_uri": "https://localhost:8080/"
        },
        "id": "gK9dPiwCBCfA",
        "outputId": "dc80a934-3e24-41ec-8bed-a357910cc9b8"
      },
      "source": [
        "counter_dict={0:0,1:0,0:0,1:0,2:0,3:0,4:0,5:0,6:0,7:0,8:0,9:0}\n",
        "\n",
        "for data in trainset:\n",
        "    xs,ys=data\n",
        "    for y in ys:\n",
        "        counter_dict[int(y)]+=1\n",
        "        \n",
        "print(counter_dict)"
      ],
      "execution_count": null,
      "outputs": [
        {
          "output_type": "stream",
          "text": [
            "{0: 5923, 1: 6742, 2: 5958, 3: 6131, 4: 5842, 5: 5421, 6: 5918, 7: 6265, 8: 5851, 9: 5949}\n"
          ],
          "name": "stdout"
        }
      ]
    },
    {
      "cell_type": "code",
      "metadata": {
        "colab": {
          "base_uri": "https://localhost:8080/"
        },
        "id": "XGBTuXWSBCfA",
        "outputId": "b6d7a62d-80c6-4850-df78-9917cdc76069"
      },
      "source": [
        "class Net(nn.Module):\n",
        "    def __init__(self):\n",
        "        super().__init__()\n",
        "        self.fc1=nn.Linear(784,200)\n",
        "        self.fc2=nn.Linear(200,100)\n",
        "        self.fc3=nn.Linear(100,50)\n",
        "        self.fc4=nn.Linear(50,10)\n",
        "    def forward(self,x):\n",
        "        x=self.fc1(x)\n",
        "        x=F.relu(self.fc2(x))\n",
        "        x=F.relu(self.fc3(x))\n",
        "        x=self.fc4(x)\n",
        "        return F.log_softmax(x,dim=1 )\n",
        "        \n",
        "net=Net()\n",
        "print(net)\n",
        "#summary(net,(1,784))\n",
        "\n",
        "optimizer=optim.SGD(net.parameters(),lr=0.001)\n",
        "losses=[]\n",
        "train_counter=[]\n",
        "EPOCHS=8\n",
        "count=0\n",
        "final_weights={}\n",
        "\n",
        "\n",
        "for epoch in range(EPOCHS):\n",
        "    for data in trainset:\n",
        "        X,y=data\n",
        "        net.zero_grad()\n",
        "        output=net(X.view(-1,28*28))\n",
        "        loss=F.nll_loss(output,y)\n",
        "        losses.append(loss)\n",
        "        loss.backward()\n",
        "        optimizer.step()\n",
        "        train_counter.append((count*64) + ((epoch-1)*len(trainset.dataset)))\n",
        "        count=count+1\n",
        "    \n",
        "    if epoch%3==0:\n",
        "        first_layer=torch.flatten(net.fc1.weight)\n",
        "        print(first_layer.dtype)\n",
        "        second_layer=torch.flatten(net.fc2.weight)\n",
        "        third_layer=torch.flatten(net.fc3.weight)\n",
        "        fourth_layer=torch.flatten(net.fc4.weight)\n",
        "        final_weights[epoch/3]=torch.cat((first_layer, second_layer, third_layer,fourth_layer), 0)\n",
        "        print(net.fc1.weight)\n",
        "        print(net.fc2.weight)\n",
        "        print(net.fc3.weight)\n",
        "        print(\"weights after backpropagation \",final_weights[epoch/3])\n",
        "           \n",
        "    print(\"printing loss\",loss)\n",
        "\n",
        "\n"
      ],
      "execution_count": null,
      "outputs": [
        {
          "output_type": "stream",
          "text": [
            "Net(\n",
            "  (fc1): Linear(in_features=784, out_features=200, bias=True)\n",
            "  (fc2): Linear(in_features=200, out_features=100, bias=True)\n",
            "  (fc3): Linear(in_features=100, out_features=50, bias=True)\n",
            "  (fc4): Linear(in_features=50, out_features=10, bias=True)\n",
            ")\n",
            "weights after tensor([ 0.0139,  0.0228, -0.0157,  ..., -0.0521,  0.0120, -0.0774],\n",
            "       grad_fn=<CatBackward>)\n",
            "printing loss tensor(2.3048, grad_fn=<NllLossBackward>)\n",
            "printing loss tensor(2.2842, grad_fn=<NllLossBackward>)\n",
            "printing loss tensor(2.2881, grad_fn=<NllLossBackward>)\n",
            "weights after tensor([ 0.0139,  0.0228, -0.0157,  ..., -0.0519,  0.0070, -0.0779],\n",
            "       grad_fn=<CatBackward>)\n",
            "printing loss tensor(2.2713, grad_fn=<NllLossBackward>)\n",
            "printing loss tensor(2.2581, grad_fn=<NllLossBackward>)\n",
            "printing loss tensor(2.2379, grad_fn=<NllLossBackward>)\n",
            "weights after tensor([ 0.0139,  0.0228, -0.0157,  ..., -0.0517, -0.0007, -0.0822],\n",
            "       grad_fn=<CatBackward>)\n",
            "printing loss tensor(2.2295, grad_fn=<NllLossBackward>)\n",
            "printing loss tensor(2.1923, grad_fn=<NllLossBackward>)\n"
          ],
          "name": "stdout"
        }
      ]
    },
    {
      "cell_type": "code",
      "metadata": {
        "colab": {
          "base_uri": "https://localhost:8080/"
        },
        "id": "WIv_4tX1BCfB",
        "outputId": "821a91fc-cfc5-4d15-c07f-42ae8d3f39fa"
      },
      "source": [
        "class Net2(nn.Module):\n",
        "    def __init__(self):\n",
        "        super().__init__()\n",
        "        self.fc1=nn.Linear(784,30)\n",
        "        self.fc2=nn.Linear(30,20)\n",
        "        self.fc3=nn.Linear(20,10)\n",
        "    def forward(self,x):\n",
        "        x=self.fc1(x)\n",
        "        x=F.relu(self.fc2(x))\n",
        "        x=self.fc3(x)\n",
        "        return F.log_softmax(x,dim=1 )\n",
        "net2=Net2()\n",
        "\n",
        "print(net2)\n",
        "#summary(net2,(1,784))\n",
        "\n",
        "\n",
        "import torch.optim as optim\n",
        "optimizer=optim.Adam(net.parameters(),lr=0.01)\n",
        "losses2=[]\n",
        "train_counter=[]\n",
        "EPOCHS=8\n",
        "count=0\n",
        "final_weights2={}\n",
        "\n",
        "\n",
        "\n",
        "for epoch in range(EPOCHS):\n",
        "  for data in trainset:\n",
        "\n",
        "      X,y=data\n",
        "      net2.zero_grad()\n",
        "      output=net2(X.view(-1,28*28))\n",
        "      loss=F.nll_loss(output,y)\n",
        "      losses2.append(loss)\n",
        "      loss.backward()\n",
        "      optimizer.step()\n",
        "      train_counter.append((count*64) + ((epoch-1)*len(trainset.dataset)))\n",
        "      count=count+1\n",
        "\n",
        "   \n",
        "  if epoch%3==0:\n",
        "     first_layer=torch.flatten(net2.fc1.weight)\n",
        "        #print(first_layer.dtype)\n",
        "     second_layer=torch.flatten(net2.fc2.weight)\n",
        "     third_layer=torch.flatten(net2.fc3.weight)\n",
        "     final_weights2[epoch/3]=torch.cat((first_layer, second_layer, third_layer), 0)\n",
        "        #print(net.fc1.weight)\n",
        "        #print(net.fc2.weight)\n",
        "        #print(net.fc3.weight)\n",
        "     print(final_weights2[epoch/3])\n",
        "     print(\"printing loss\",loss)\n",
        "\n"
      ],
      "execution_count": null,
      "outputs": [
        {
          "output_type": "stream",
          "text": [
            "Net2(\n",
            "  (fc1): Linear(in_features=784, out_features=30, bias=True)\n",
            "  (fc2): Linear(in_features=30, out_features=20, bias=True)\n",
            "  (fc3): Linear(in_features=20, out_features=10, bias=True)\n",
            ")\n",
            "tensor([-0.0225, -0.0072, -0.0354,  ...,  0.1317, -0.1668,  0.0813],\n",
            "       grad_fn=<CatBackward>)\n",
            "printing loss tensor(2.3169, grad_fn=<NllLossBackward>)\n",
            "tensor([-0.0225, -0.0072, -0.0354,  ...,  0.1317, -0.1668,  0.0813],\n",
            "       grad_fn=<CatBackward>)\n",
            "printing loss tensor(2.2958, grad_fn=<NllLossBackward>)\n",
            "tensor([-0.0225, -0.0072, -0.0354,  ...,  0.1317, -0.1668,  0.0813],\n",
            "       grad_fn=<CatBackward>)\n",
            "printing loss tensor(2.3340, grad_fn=<NllLossBackward>)\n"
          ],
          "name": "stdout"
        }
      ]
    },
    {
      "cell_type": "code",
      "metadata": {
        "colab": {
          "base_uri": "https://localhost:8080/"
        },
        "id": "CX9AMhpMF1wM",
        "outputId": "bde08aa1-bde7-4dd9-b729-0a164d47b810"
      },
      "source": [
        "class Net3(nn.Module):\n",
        "    def __init__(self):\n",
        "        super().__init__()\n",
        "        self.fc1=nn.Linear(784,16)\n",
        "        self.fc2=nn.Linear(16,10)\n",
        "        self.fc3=nn.Linear(10,10)\n",
        "    def forward(self,x):\n",
        "        x=self.fc1(x)\n",
        "        x=F.relu(self.fc2(x))\n",
        "        x=self.fc3(x)\n",
        "        return F.log_softmax(x,dim=1 )\n",
        "        \n",
        "net3=Net3()\n",
        "optimizer=optim.SGD(net3.parameters(),lr=0.002)\n",
        "EPOCHS=8\n",
        "losses3=[]\n",
        "train_counter3=[]\n",
        "count=0\n",
        "final_weights3={}\n",
        "    \n",
        "for epoch in range(EPOCHS):\n",
        "    for data in trainset:\n",
        "        X,y=data\n",
        "        net3.zero_grad()\n",
        "        output=net3(X.view(-1,28*28))\n",
        "        loss=F.nll_loss(output,y)\n",
        "        losses3.append(loss)\n",
        "        loss.backward()\n",
        "        optimizer.step()\n",
        "        train_counter.append((count*64) + ((epoch-1)*len(trainset.dataset)))\n",
        "        count=count+1\n",
        "\n",
        "    \n",
        "        \n",
        "    if epoch%3==0:\n",
        "        first_layer=torch.flatten(net3.fc1.weight)\n",
        "        #print(first_layer.dtype)\n",
        "        second_layer=torch.flatten(net3.fc2.weight)\n",
        "        third_layer=torch.flatten(net3.fc3.weight)\n",
        "        final_weights3[epoch/3]=torch.cat((first_layer, second_layer, third_layer), 0)\n",
        "        #print(net.fc1.weight)\n",
        "        #print(net.fc2.weight)\n",
        "        #print(net.fc3.weight)\n",
        "        print(\"weights after\",final_weights3[epoch/3])\n",
        "        \n",
        "        \n",
        "   \n",
        "    print(\"printing loss\",loss)\n",
        "    "
      ],
      "execution_count": null,
      "outputs": [
        {
          "output_type": "stream",
          "text": [
            "weights after tensor([ 0.0109, -0.0283,  0.0008,  ...,  0.1751, -0.1127,  0.0639],\n",
            "       grad_fn=<CatBackward>)\n",
            "printing loss tensor(2.2260, grad_fn=<NllLossBackward>)\n",
            "printing loss tensor(2.1601, grad_fn=<NllLossBackward>)\n",
            "printing loss tensor(1.9856, grad_fn=<NllLossBackward>)\n",
            "weights after tensor([ 0.0109, -0.0283,  0.0008,  ...,  0.1152, -0.2346,  0.0637],\n",
            "       grad_fn=<CatBackward>)\n",
            "printing loss tensor(1.7216, grad_fn=<NllLossBackward>)\n",
            "printing loss tensor(1.5328, grad_fn=<NllLossBackward>)\n",
            "printing loss tensor(1.1957, grad_fn=<NllLossBackward>)\n",
            "weights after tensor([ 0.0109, -0.0283,  0.0008,  ...,  0.0298, -0.4272,  0.0629],\n",
            "       grad_fn=<CatBackward>)\n",
            "printing loss tensor(1.1034, grad_fn=<NllLossBackward>)\n",
            "printing loss tensor(0.9206, grad_fn=<NllLossBackward>)\n"
          ],
          "name": "stdout"
        }
      ]
    },
    {
      "cell_type": "code",
      "metadata": {
        "colab": {
          "base_uri": "https://localhost:8080/"
        },
        "id": "r2WGBzifGFuS",
        "outputId": "a0aa467a-c7f7-49ad-e8bb-c06d293edad0"
      },
      "source": [
        "class Net4(nn.Module):\n",
        "    def __init__(self):\n",
        "        super().__init__()\n",
        "        self.fc1=nn.Linear(784,200)\n",
        "        self.fc2=nn.Linear(200,100)\n",
        "        self.fc3=nn.Linear(100,50)\n",
        "        self.fc4=nn.Linear(50,10)\n",
        "    def forward(self,x):\n",
        "        x=self.fc1(x)\n",
        "        x=F.relu(self.fc2(x))\n",
        "        x=F.relu(self.fc3(x))\n",
        "        x=self.fc4(x)\n",
        "        return F.log_softmax(x,dim=1 )\n",
        "net4=Net4()\n",
        "print(net4)\n",
        "optimizer=optim.SGD(net4.parameters(),lr=0.002)\n",
        "losses4=[]\n",
        "train_counter4=[]\n",
        "count=0\n",
        "final_weights4={}\n",
        "\n",
        "\n",
        "for epoch in range(EPOCHS):\n",
        "    for data in trainset:\n",
        "        X,y=data\n",
        "        net4.zero_grad()\n",
        "        output=net4(X.view(-1,28*28))\n",
        "        loss=F.nll_loss(output,y)\n",
        "        losses4.append(loss)\n",
        "        loss.backward()\n",
        "        optimizer.step()\n",
        "        train_counter.append((count*64) + ((epoch-1)*len(trainset.dataset)))\n",
        "        count=count+1\n",
        "\n",
        "    \n",
        "        \n",
        "    if epoch%3==0:\n",
        "        first_layer=torch.flatten(net4.fc1.weight)\n",
        "        #print(first_layer.dtype)\n",
        "        second_layer=torch.flatten(net4.fc2.weight)\n",
        "        third_layer=torch.flatten(net4.fc3.weight)\n",
        "        fourth_layer=torch.flatten(net4.fc4.weight)\n",
        "        final_weights4[epoch/3]=torch.cat((first_layer, second_layer, third_layer,fourth_layer), 0)\n",
        "        #print(net.fc1.weight)\n",
        "        #print(net.fc2.weight)\n",
        "        #print(net.fc3.weight)\n",
        "        #print(net.fc4.weight)\n",
        "        print(final_weights4[epoch/3])\n",
        "         \n",
        "        \n",
        "   \n",
        "    print(\"printing loss\",loss)"
      ],
      "execution_count": null,
      "outputs": [
        {
          "output_type": "stream",
          "text": [
            "Net4(\n",
            "  (fc1): Linear(in_features=784, out_features=200, bias=True)\n",
            "  (fc2): Linear(in_features=200, out_features=100, bias=True)\n",
            "  (fc3): Linear(in_features=100, out_features=50, bias=True)\n",
            "  (fc4): Linear(in_features=50, out_features=10, bias=True)\n",
            ")\n",
            "tensor([ 0.0256,  0.0134, -0.0194,  ..., -0.1198, -0.0411,  0.1300],\n",
            "       grad_fn=<CatBackward>)\n",
            "printing loss tensor(2.2828, grad_fn=<NllLossBackward>)\n",
            "printing loss tensor(2.2521, grad_fn=<NllLossBackward>)\n",
            "printing loss tensor(2.1825, grad_fn=<NllLossBackward>)\n",
            "tensor([ 0.0256,  0.0134, -0.0194,  ..., -0.1420, -0.0223,  0.1743],\n",
            "       grad_fn=<CatBackward>)\n",
            "printing loss tensor(2.1193, grad_fn=<NllLossBackward>)\n",
            "printing loss tensor(1.8788, grad_fn=<NllLossBackward>)\n",
            "printing loss tensor(1.6394, grad_fn=<NllLossBackward>)\n",
            "tensor([ 0.0256,  0.0134, -0.0194,  ..., -0.1935,  0.0411,  0.3191],\n",
            "       grad_fn=<CatBackward>)\n",
            "printing loss tensor(1.3346, grad_fn=<NllLossBackward>)\n",
            "printing loss tensor(1.1640, grad_fn=<NllLossBackward>)\n"
          ],
          "name": "stdout"
        }
      ]
    },
    {
      "cell_type": "code",
      "metadata": {
        "colab": {
          "base_uri": "https://localhost:8080/"
        },
        "id": "uvXWkFQVS60N",
        "outputId": "cd2e74c5-12ce-4484-de2b-1db641bf7104"
      },
      "source": [
        "class Net5(nn.Module):\n",
        "    def __init__(self):\n",
        "        super().__init__()\n",
        "        self.fc1=nn.Linear(784,160)\n",
        "        self.fc2=nn.Linear(160,90)\n",
        "        self.fc3=nn.Linear(90,10)\n",
        "    def forward(self,x):\n",
        "        x=self.fc1(x)\n",
        "        x=F.relu(self.fc2(x))\n",
        "        x=self.fc3(x)\n",
        "        return F.log_softmax(x,dim=1 )\n",
        "        \n",
        "net5=Net5()\n",
        "optimizer=optim.Adam(net3.parameters(),lr=1e-3)\n",
        "EPOCHS=8\n",
        "losses5=[]\n",
        "train_counter5=[]\n",
        "count=0\n",
        "final_weights5={}\n",
        "    \n",
        "for epoch in range(EPOCHS):\n",
        "    for data in trainset:\n",
        "        X,y=data\n",
        "        net5.zero_grad()\n",
        "        output=net5(X.view(-1,28*28))\n",
        "        loss=F.nll_loss(output,y)\n",
        "        losses5.append(loss)\n",
        "        loss.backward()\n",
        "        optimizer.step()\n",
        "        train_counter5.append((count*64) + ((epoch-1)*len(trainset.dataset)))\n",
        "        count=count+1\n",
        "\n",
        "    \n",
        "        \n",
        "    if epoch%3==0:\n",
        "        first_layer=torch.flatten(net5.fc1.weight)\n",
        "        #print(first_layer.dtype)\n",
        "        second_layer=torch.flatten(net5.fc2.weight)\n",
        "        third_layer=torch.flatten(net5.fc3.weight)\n",
        "        final_weights5[epoch/3]=torch.cat((first_layer, second_layer, third_layer), 0)\n",
        "        #print(net.fc1.weight)\n",
        "        #print(net.fc2.weight)\n",
        "        #print(net.fc3.weight)\n",
        "        print(\"weights after\",final_weights5[epoch/3])\n",
        "        \n",
        "        \n",
        "   \n",
        "    print(\"printing loss\",loss)\n",
        "    "
      ],
      "execution_count": null,
      "outputs": [
        {
          "output_type": "stream",
          "text": [
            "weights after tensor([-0.0331, -0.0302, -0.0253,  ..., -0.0845,  0.0443, -0.0069],\n",
            "       grad_fn=<CatBackward>)\n",
            "printing loss tensor(2.3041, grad_fn=<NllLossBackward>)\n",
            "printing loss tensor(2.3035, grad_fn=<NllLossBackward>)\n",
            "printing loss tensor(2.3204, grad_fn=<NllLossBackward>)\n",
            "weights after tensor([-0.0331, -0.0302, -0.0253,  ..., -0.0845,  0.0443, -0.0069],\n",
            "       grad_fn=<CatBackward>)\n",
            "printing loss tensor(2.3045, grad_fn=<NllLossBackward>)\n",
            "printing loss tensor(2.3093, grad_fn=<NllLossBackward>)\n",
            "printing loss tensor(2.3244, grad_fn=<NllLossBackward>)\n",
            "weights after tensor([-0.0331, -0.0302, -0.0253,  ..., -0.0845,  0.0443, -0.0069],\n",
            "       grad_fn=<CatBackward>)\n",
            "printing loss tensor(2.3111, grad_fn=<NllLossBackward>)\n",
            "printing loss tensor(2.3216, grad_fn=<NllLossBackward>)\n"
          ],
          "name": "stdout"
        }
      ]
    },
    {
      "cell_type": "code",
      "metadata": {
        "id": "7BhooHopBCfB"
      },
      "source": [
        "\n",
        "    \n",
        "import csv\n",
        "\n",
        "w = csv.writer(open(\"output.csv\", \"w\"))\n",
        "for key, val in final_weights.items():\n",
        "    w.writerow([key, val])    \n",
        "f = open(\"op.txt\",\"w\")\n",
        "f.write( str(final_weights) )\n",
        "f.close()\n",
        "#np.savetxt(\"test_file.txt\", final_weights[], fmt = \"%f\")\n",
        "#final_weights.to_csv('output_weights.csv')"
      ],
      "execution_count": null,
      "outputs": []
    },
    {
      "cell_type": "code",
      "metadata": {
        "colab": {
          "base_uri": "https://localhost:8080/",
          "height": 312
        },
        "id": "xq-2gkk7BCfC",
        "outputId": "94a0e90d-ba18-4e0a-d259-7841c0ebac13"
      },
      "source": [
        "from sklearn.preprocessing import StandardScaler\n",
        "import matplotlib.pyplot as plt\n",
        "\n",
        "dataMatrix = np.array([final_weights[i].detach().numpy() for i in range(3)])\n",
        "x=StandardScaler().fit_transform(dataMatrix).T\n",
        "\n",
        "\n",
        "dataMatrix2 = np.array([final_weights2[i].detach().numpy() for i in range(3)])\n",
        "X2 = dataMatrix2.transpose()\n",
        "#y=StandardScaler().fit_transform(dataMatrix2).T #second model\n",
        "\n",
        "dataMatrix3 = np.array([final_weights3[i].detach().numpy() for i in range(3)])\n",
        "x3=dataMatrix3.transpose()\n",
        "\n",
        "dataMatrix4 = np.array([final_weights4[i].detach().numpy() for i in range(3)])\n",
        "x4=dataMatrix4.transpose() \n",
        "\n",
        "dataMatrix5 = np.array([final_weights5[i].detach().numpy() for i in range(3)])\n",
        "x5=dataMatrix5.transpose() \n",
        "\n",
        "from sklearn.decomposition import PCA \n",
        "pca= PCA(n_components=2)\n",
        "\n",
        "pc_comp=pca.fit_transform(x)\n",
        "pc_comp2=pca.fit_transform(X2)\n",
        "pc_comp3=pca.fit_transform(x3)\n",
        "pc_comp4=pca.fit_transform(x4)\n",
        "pc_comp5=pca.fit_transform(x5)\n",
        "\n",
        "#plt.scatter(pc_comp[:,0],pc_comp[:,1],color=\"red\")\n",
        "plt.scatter(pc_comp4[:,0],pc_comp4[:,1],color=\"purple\")\n",
        "plt.scatter(pc_comp3[:,0],pc_comp3[:,1],color=\"blue\")\n",
        "plt.scatter(pc_comp2[:,0],pc_comp2[:,1],color=\"green\")\n",
        "plt.scatter(pc_comp5[:,0],pc_comp5[:,1],color=\"yellow\")\n",
        "\n",
        "plt.title('2PCA')\n",
        "plt.xlabel('Principal Component 1')\n",
        "plt.ylabel('Principal Component2')"
      ],
      "execution_count": null,
      "outputs": [
        {
          "output_type": "execute_result",
          "data": {
            "text/plain": [
              "Text(0, 0.5, 'Principal Component2')"
            ]
          },
          "metadata": {
            "tags": []
          },
          "execution_count": 85
        },
        {
          "output_type": "display_data",
          "data": {
            "image/png": "[encoded data removed]",
            "text/plain": [
              "<Figure size 432x288 with 1 Axes>"
            ]
          },
          "metadata": {
            "tags": [],
            "needs_background": "light"
          }
        }
      ]
    },
    {
      "cell_type": "code",
      "metadata": {
        "colab": {
          "base_uri": "https://localhost:8080/",
          "height": 282
        },
        "id": "YxtZzrfDE46k",
        "outputId": "72a98397-2e35-4795-e0e9-93b7f066c490"
      },
      "source": [
        "plt.scatter(pc_comp4[:,0],pc_comp4[:,1],color=\"purple\")"
      ],
      "execution_count": null,
      "outputs": [
        {
          "output_type": "execute_result",
          "data": {
            "text/plain": [
              "<matplotlib.collections.PathCollection at 0x7f2a6a054c18>"
            ]
          },
          "metadata": {
            "tags": []
          },
          "execution_count": 67
        },
        {
          "output_type": "display_data",
          "data": {
            "image/png": "[encoded data removed]",
            "text/plain": [
              "<Figure size 432x288 with 1 Axes>"
            ]
          },
          "metadata": {
            "tags": [],
            "needs_background": "light"
          }
        }
      ]
    },
    {
      "cell_type": "code",
      "metadata": {
        "colab": {
          "base_uri": "https://localhost:8080/",
          "height": 282
        },
        "id": "T4QpMS9nE8lI",
        "outputId": "91025143-b069-439a-d5f1-6ae11949b5f1"
      },
      "source": [
        "plt.scatter(pc_comp3[:,0],pc_comp3[:,1],color=\"blue\")\n"
      ],
      "execution_count": null,
      "outputs": [
        {
          "output_type": "execute_result",
          "data": {
            "text/plain": [
              "<matplotlib.collections.PathCollection at 0x7f2a86d00390>"
            ]
          },
          "metadata": {
            "tags": []
          },
          "execution_count": 42
        },
        {
          "output_type": "display_data",
          "data": {
            "image/png": "[encoded data removed]",
            "text/plain": [
              "<Figure size 432x288 with 1 Axes>"
            ]
          },
          "metadata": {
            "tags": [],
            "needs_background": "light"
          }
        }
      ]
    },
    {
      "cell_type": "code",
      "metadata": {
        "colab": {
          "base_uri": "https://localhost:8080/",
          "height": 293
        },
        "id": "3TgduhrDFBxS",
        "outputId": "27c5481a-f2e8-46f8-f408-f2db0e4c79d4"
      },
      "source": [
        "plt.scatter(pc_comp2[:,0],pc_comp2[:,1],color=\"green\")\n"
      ],
      "execution_count": null,
      "outputs": [
        {
          "output_type": "execute_result",
          "data": {
            "text/plain": [
              "<matplotlib.collections.PathCollection at 0x7f2a69d82978>"
            ]
          },
          "metadata": {
            "tags": []
          },
          "execution_count": 77
        },
        {
          "output_type": "display_data",
          "data": {
            "image/png": "[encoded data removed]",
            "text/plain": [
              "<Figure size 432x288 with 1 Axes>"
            ]
          },
          "metadata": {
            "tags": [],
            "needs_background": "light"
          }
        }
      ]
    },
    {
      "cell_type": "code",
      "metadata": {
        "colab": {
          "base_uri": "https://localhost:8080/",
          "height": 282
        },
        "id": "sFScC-cgUEUS",
        "outputId": "dd15058e-64c4-48a4-b187-9f77d9b1793b"
      },
      "source": [
        "plt.scatter(pc_comp5[:,0],pc_comp5[:,1],color=\"yellow\")\n"
      ],
      "execution_count": null,
      "outputs": [
        {
          "output_type": "execute_result",
          "data": {
            "text/plain": [
              "<matplotlib.collections.PathCollection at 0x7f2a6a554940>"
            ]
          },
          "metadata": {
            "tags": []
          },
          "execution_count": 80
        },
        {
          "output_type": "display_data",
          "data": {
            "image/png": "[encoded data removed]",
            "text/plain": [
              "<Figure size 432x288 with 1 Axes>"
            ]
          },
          "metadata": {
            "tags": [],
            "needs_background": "light"
          }
        }
      ]
    },
    {
      "cell_type": "code",
      "metadata": {
        "id": "Ryc8qvtPBCfC",
        "colab": {
          "base_uri": "https://localhost:8080/",
          "height": 282
        },
        "outputId": "a9fbaef2-dcfb-4604-fc43-870909404e06"
      },
      "source": [
        "plt.scatter(pc_comp[:,0],pc_comp[:,1],color=\"red\")\n"
      ],
      "execution_count": null,
      "outputs": [
        {
          "output_type": "execute_result",
          "data": {
            "text/plain": [
              "<matplotlib.collections.PathCollection at 0x7f2a69ea05c0>"
            ]
          },
          "metadata": {
            "tags": []
          },
          "execution_count": 86
        },
        {
          "output_type": "display_data",
          "data": {
            "image/png": "[encoded data removed]",
            "text/plain": [
              "<Figure size 432x288 with 1 Axes>"
            ]
          },
          "metadata": {
            "tags": [],
            "needs_background": "light"
          }
        }
      ]
    },
    {
      "cell_type": "code",
      "metadata": {
        "id": "1fTeBJBZBCfC"
      },
      "source": [
        ""
      ],
      "execution_count": null,
      "outputs": []
    },
    {
      "cell_type": "code",
      "metadata": {
        "id": "lYOOn2tvBCfD"
      },
      "source": [
        ""
      ],
      "execution_count": null,
      "outputs": []
    },
    {
      "cell_type": "code",
      "metadata": {
        "id": "DWl4dMiKBCfD"
      },
      "source": [
        ""
      ],
      "execution_count": null,
      "outputs": []
    },
    {
      "cell_type": "code",
      "metadata": {
        "id": "Zz2HVfcEBCfD"
      },
      "source": [
        ""
      ],
      "execution_count": null,
      "outputs": []
    },
    {
      "cell_type": "code",
      "metadata": {
        "id": "9LPbUHIUBCfD"
      },
      "source": [
        ""
      ],
      "execution_count": null,
      "outputs": []
    },
    {
      "cell_type": "code",
      "metadata": {
        "id": "yD85QVj-BCfD"
      },
      "source": [
        ""
      ],
      "execution_count": null,
      "outputs": []
    }
  ]
}