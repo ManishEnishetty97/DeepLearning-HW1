{
  "nbformat": 4,
  "nbformat_minor": 0,
  "metadata": {
    "colab": {
      "name": "Shallow_1.ipynb",
      "provenance": [],
      "authorship_tag": "ABX9TyNQXPkMVG3k9IyZ5lxUeevR",
      "include_colab_link": true
    },
    "kernelspec": {
      "name": "python3",
      "display_name": "Python 3"
    }
  },
  "cells": [
    {
      "cell_type": "markdown",
      "metadata": {
        "id": "view-in-github",
        "colab_type": "text"
      },
      "source": [
        "<a href=\"https://colab.research.google.com/github/ManishEnishetty97/DeepLearning-HW1/blob/main/Shallow_1.ipynb\" target=\"_parent\"><img src=\"https://colab.research.google.com/assets/colab-badge.svg\" alt=\"Open In Colab\"/></a>"
      ]
    },
    {
      "cell_type": "code",
      "metadata": {
        "id": "c68SYQ8KcExC"
      },
      "source": [
        "import torch\n",
        "import math\n",
        "import numpy as np\n",
        "import matplotlib as plt\n",
        "import torchvision\n",
        "import torch.nn as nn\n",
        "import torch.nn.functional as F"
      ],
      "execution_count": null,
      "outputs": []
    },
    {
      "cell_type": "markdown",
      "metadata": {
        "id": "T-VDbF25TMCN"
      },
      "source": [
        "The Non- Linear function is Sin(5*pi*X) which has single input and single output.I have taken 300 datapoints in the range of (0,3)"
      ]
    },
    {
      "cell_type": "code",
      "metadata": {
        "id": "o1hUQbGacH_p"
      },
      "source": [
        "X=torch.linspace(0,3,300)\n",
        "Y=torch.sin(5*math.pi*X)\n",
        "target=Y[:]\n"
      ],
      "execution_count": null,
      "outputs": []
    },
    {
      "cell_type": "markdown",
      "metadata": {
        "id": "vLTzsjx4gPXJ"
      },
      "source": [
        "Now, Let us build our first Shallow Model Fun1 which has 300 input features and 300 output features.This model has only one hidden unit which has Relu() as Activation function.\n"
      ]
    },
    {
      "cell_type": "code",
      "metadata": {
        "colab": {
          "base_uri": "https://localhost:8080/"
        },
        "id": "6kLLvxRecNQM",
        "outputId": "2332f0d4-5b29-42fd-ded5-b0afdc06df4b"
      },
      "source": [
        "class Fun1(nn.Module):\n",
        "  def __init__(self,X):\n",
        "    super(Fun1,self).__init__()\n",
        "    self.fc1=nn.Linear(300,100)\n",
        "    self.fc2=nn.Linear(100,50)\n",
        "    self.fc3=nn.Linear(50,300)\n",
        "\n",
        "  def forward(self,X):\n",
        "    out=self.fc1(X)\n",
        "    out=F.relu(self.fc2(out))\n",
        "    out=self.fc3(out)\n",
        "    return out\n",
        "    \n",
        "model=Fun1(X)\n",
        "\n",
        "print(model)"
      ],
      "execution_count": null,
      "outputs": [
        {
          "output_type": "stream",
          "text": [
            "Fun1(\n",
            "  (fc1): Linear(in_features=300, out_features=100, bias=True)\n",
            "  (fc2): Linear(in_features=100, out_features=50, bias=True)\n",
            "  (fc3): Linear(in_features=50, out_features=300, bias=True)\n",
            ")\n"
          ],
          "name": "stdout"
        }
      ]
    },
    {
      "cell_type": "markdown",
      "metadata": {
        "id": "6wStzzhjgpY8"
      },
      "source": [
        "Let us train our model. I have given 10 Epochs to calculate loss for each epoch.I'm using Adam Optimizer and learning rate is 0.001. For Calculating loss between output and target i'm using the inbuilt method MSELoss()"
      ]
    },
    {
      "cell_type": "code",
      "metadata": {
        "colab": {
          "base_uri": "https://localhost:8080/"
        },
        "id": "SnmJgy_vd8ac",
        "outputId": "561bf9fb-6971-457a-ec43-f5964964ce02"
      },
      "source": [
        "criterion=nn.MSELoss()\n",
        "optimizer = torch.optim.Adam(model.parameters(), lr=0.001)\n",
        "loss_list=[]\n",
        "final=torch.tensor(0)\n",
        "Epochs=10\n",
        "for epoch in range(Epochs):\n",
        "  running_loss=0.0\n",
        "  for i in range(300):\n",
        "    optimizer.zero_grad()\n",
        "    outputs=model(X)\n",
        "    loss=criterion(outputs,target)\n",
        "    running_loss+=loss.item()\n",
        "    loss_list.append(running_loss)\n",
        "    loss.backward()\n",
        "    optimizer.step()\n",
        "  print('[%d, %5d] loss: %.8f' %(epoch + 1, i, running_loss ))\n",
        "  final=(outputs.flatten())\n"
      ],
      "execution_count": null,
      "outputs": [
        {
          "output_type": "stream",
          "text": [
            "[1,   299] loss: 10.00971042\n",
            "[2,   299] loss: 0.01082854\n",
            "[3,   299] loss: 0.01108096\n",
            "[4,   299] loss: 0.00919160\n",
            "[5,   299] loss: 0.00952654\n",
            "[6,   299] loss: 0.00861181\n",
            "[7,   299] loss: 0.03749198\n",
            "[8,   299] loss: 0.00550931\n",
            "[9,   299] loss: 0.01077346\n",
            "[10,   299] loss: 0.00798979\n"
          ],
          "name": "stdout"
        }
      ]
    },
    {
      "cell_type": "markdown",
      "metadata": {
        "id": "ZUHrdqLWhGsD"
      },
      "source": [
        "Now let us plot the graph for visualising Loss Vs Epochs"
      ]
    },
    {
      "cell_type": "code",
      "metadata": {
        "colab": {
          "base_uri": "https://localhost:8080/",
          "height": 312
        },
        "id": "hkcHIfA1_UbI",
        "outputId": "96010da1-75da-498a-bf1c-1b7692b9d74c"
      },
      "source": [
        "import matplotlib.pyplot as plt\n",
        "plt.plot(loss_list)\n",
        "plt.xlabel('Epochs')\n",
        "plt.ylabel('Loss')\n",
        "plt.title('ModelLoss')"
      ],
      "execution_count": null,
      "outputs": [
        {
          "output_type": "execute_result",
          "data": {
            "text/plain": [
              "Text(0.5, 1.0, 'ModelLoss')"
            ]
          },
          "metadata": {
            "tags": []
          },
          "execution_count": 6
        },
        {
          "output_type": "display_data",
          "data": {
            "image/png": "[encoded data removed]",
            "text/plain": [
              "<Figure size 432x288 with 1 Axes>"
            ]
          },
          "metadata": {
            "tags": [],
            "needs_background": "light"
          }
        }
      ]
    },
    {
      "cell_type": "markdown",
      "metadata": {
        "id": "Ey2kcBCwhnsP"
      },
      "source": [
        "The New model is the scatter plot.Since our new model is in convergence with old model , our network is working very well. "
      ]
    },
    {
      "cell_type": "code",
      "metadata": {
        "colab": {
          "base_uri": "https://localhost:8080/",
          "height": 282
        },
        "id": "YnsZ8QEZ_mxt",
        "outputId": "c27ba9f0-7142-46f7-8b16-574455bd546a"
      },
      "source": [
        "plt.plot(X,Y)\n",
        "graph2=final\n",
        "final_model=graph2.detach()\n",
        "plt.scatter(X,final_model)\n"
      ],
      "execution_count": null,
      "outputs": [
        {
          "output_type": "execute_result",
          "data": {
            "text/plain": [
              "<matplotlib.collections.PathCollection at 0x7f8ebe87c550>"
            ]
          },
          "metadata": {
            "tags": []
          },
          "execution_count": 10
        },
        {
          "output_type": "display_data",
          "data": {
            "image/png": "[encoded data removed]",
            "text/plain": [
              "<Figure size 432x288 with 1 Axes>"
            ]
          },
          "metadata": {
            "tags": [],
            "needs_background": "light"
          }
        }
      ]
    },
    {
      "cell_type": "code",
      "metadata": {
        "colab": {
          "base_uri": "https://localhost:8080/"
        },
        "id": "ZlvK3YbAi-gc",
        "outputId": "163a3846-9e3a-4adc-9bb6-dce309251fe4"
      },
      "source": [
        "pytorch_total_params = sum(p.numel() for p in model.parameters() if p.requires_grad)\n",
        "print(pytorch_total_params)"
      ],
      "execution_count": null,
      "outputs": [
        {
          "output_type": "stream",
          "text": [
            "50450\n"
          ],
          "name": "stdout"
        }
      ]
    },
    {
      "cell_type": "code",
      "metadata": {
        "colab": {
          "base_uri": "https://localhost:8080/"
        },
        "id": "JNmsv0DLiNFM",
        "outputId": "41c1bbb1-8478-4611-ffb5-07f3e690ae73"
      },
      "source": [
        ""
      ],
      "execution_count": null,
      "outputs": [
        {
          "output_type": "stream",
          "text": [
            "Fun2(\n",
            "  (fc1): Linear(in_features=300, out_features=80, bias=True)\n",
            "  (fc2): Linear(in_features=80, out_features=69, bias=True)\n",
            "  (fc3): Linear(in_features=69, out_features=300, bias=True)\n",
            ")\n"
          ],
          "name": "stdout"
        }
      ]
    },
    {
      "cell_type": "code",
      "metadata": {
        "id": "S4NUsAiDj9hC"
      },
      "source": [
        ""
      ],
      "execution_count": null,
      "outputs": []
    },
    {
      "cell_type": "code",
      "metadata": {
        "id": "xPXlg42PkXZu"
      },
      "source": [
        ""
      ],
      "execution_count": null,
      "outputs": []
    }
  ]
}