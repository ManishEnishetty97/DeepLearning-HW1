{
  "nbformat": 4,
  "nbformat_minor": 0,
  "metadata": {
    "kernelspec": {
      "display_name": "Python 3",
      "language": "python",
      "name": "python3"
    },
    "colab": {
      "name": "CNNpytorch 1.2.ipynb",
      "provenance": [],
      "include_colab_link": true
    }
  },
  "cells": [
    {
      "cell_type": "markdown",
      "metadata": {
        "id": "view-in-github",
        "colab_type": "text"
      },
      "source": [
        "<a href=\"https://colab.research.google.com/github/ManishEnishetty97/DeepLearning-HW1/blob/main/CNNpytorch_1_2.ipynb\" target=\"_parent\"><img src=\"https://colab.research.google.com/assets/colab-badge.svg\" alt=\"Open In Colab\"/></a>"
      ]
    },
    {
      "cell_type": "code",
      "metadata": {
        "id": "jw5pKktacAh4"
      },
      "source": [
        "import torch  # root package\n",
        "import torchvision\n",
        "from torch.utils.data import Dataset, DataLoader    \n",
        "import torch.autograd as autograd       \n",
        "from torch import Tensor                \n",
        "import torch.nn as nn                   \n",
        "import torch.nn.functional as F         \n",
        "import torch.optim as optim             \n",
        "from torch.jit import script, trace     \n",
        "from torchvision import datasets, models, transforms    \n",
        "import torchvision.transforms as transforms             \n",
        "\n",
        "# Hyperparameters\n",
        "num_epochs = 5\n",
        "num_classes = 10\n",
        "batch_size = 10\n",
        "learning_rate = 0.001\n",
        "\n",
        "DATA_PATH = '/Users/manish/dataset/'\n",
        "MODEL_STORE_PATH = '/Users/manish/models'\n",
        "\n",
        "trans = transforms.Compose([transforms.ToTensor(), transforms.Normalize((0.1307,), (0.3081,))])\n",
        "\n",
        "# MNIST dataset\n",
        "train_dataset = torchvision.datasets.MNIST(root=DATA_PATH, train=True, transform=trans, download=True)\n",
        "test_dataset = torchvision.datasets.MNIST(root=DATA_PATH, train=False, transform=trans,download=True)\n",
        "train_loader = DataLoader(dataset=train_dataset, batch_size=batch_size, shuffle=True)\n",
        "test_loader = DataLoader(dataset=test_dataset, batch_size=batch_size, shuffle=False)\n",
        "\n",
        "class Manish(nn.Module):\n",
        "    def __init__(self):\n",
        "        super(Manish, self).__init__()\n",
        "        self.manishlayer1 = nn.Sequential(\n",
        "            nn.Conv2d(1, 32, kernel_size=5, stride=1, padding=2),\n",
        "            nn.ReLU(),\n",
        "            nn.MaxPool2d(kernel_size=2, stride=2))\n",
        "        self.manishlayer2 = nn.Sequential(\n",
        "            nn.Conv2d(32, 64, kernel_size=5, stride=1, padding=2),\n",
        "            nn.ReLU(),\n",
        "            nn.MaxPool2d(kernel_size=2, stride=2))\n",
        "        self.drop_out = nn.Dropout()\n",
        "        self.fc1 = nn.Linear(7 * 7 * 64, 1000)\n",
        "        self.fc2 = nn.Linear(1000, 10)\n",
        "\n",
        "    def forward(self, x):\n",
        "        out = self.manishlayer1(x)\n",
        "        out = self.manishlayer2(out)\n",
        "        out = out.reshape(out.size(0), -1)\n",
        "        out = self.drop_out(out)\n",
        "        out = self.fc1(out)\n",
        "        out = self.fc2(out)\n",
        "        return out\n",
        "\n",
        "model = Manish()\n",
        "\n"
      ],
      "execution_count": null,
      "outputs": []
    },
    {
      "cell_type": "code",
      "metadata": {
        "id": "amu4FMqpcAh_"
      },
      "source": [
        "\n",
        "# Loss and optimizer\n",
        "criterion = nn.CrossEntropyLoss()\n",
        "optimizer = torch.optim.Adam(model.parameters(), lr=learning_rate)\n",
        "\n",
        "\n",
        "# Train the model\n",
        "total_step = len(train_loader)\n",
        "loss_list = []\n",
        "acc_list = []\n",
        "\n"
      ],
      "execution_count": null,
      "outputs": []
    },
    {
      "cell_type": "code",
      "metadata": {
        "id": "iD0PFHnfcAiA",
        "outputId": "97c5c7e0-7808-451c-9850-ffebff514e6b"
      },
      "source": [
        "for epoch in range(2):\n",
        "    for i, data in enumerate(train_loader):\n",
        "        images,labels=data\n",
        "        outputs=model(images)\n",
        "        optimizer.zero_grad()\n",
        "        loss = criterion(outputs, labels)\n",
        "        loss_list.append(loss.item())\n",
        "\n",
        "        # Backprop and perform Adam optimisation\n",
        "        optimizer.zero_grad()\n",
        "        loss.backward()\n",
        "        optimizer.step()\n",
        "\n",
        "        # Track the accuracy\n",
        "        total = labels.size(0)\n",
        "        _, predicted = torch.max(outputs.data, 1)\n",
        "        correct = (predicted == labels).sum().item()\n",
        "        acc_list.append(correct / total)\n",
        "\n",
        "        if (i + 1) % 100 == 0:\n",
        "            print('Epoch [{}/{}], Step [{}/{}], Loss: {:.4f}, Accuracy: {:.2f}%'\n",
        "                  .format(epoch + 1, num_epochs, i + 1, total_step, loss.item(),\n",
        "                          (correct / total) * 100))\n",
        "\n",
        "\n",
        "            \n",
        "            \n"
      ],
      "execution_count": null,
      "outputs": [
        {
          "output_type": "stream",
          "text": [
            "Epoch [1/5], Step [100/6000], Loss: 0.8272, Accuracy: 70.00%\n",
            "Epoch [1/5], Step [200/6000], Loss: 0.5766, Accuracy: 90.00%\n",
            "Epoch [1/5], Step [300/6000], Loss: 0.2500, Accuracy: 100.00%\n",
            "Epoch [1/5], Step [400/6000], Loss: 0.2965, Accuracy: 90.00%\n",
            "Epoch [1/5], Step [500/6000], Loss: 0.5635, Accuracy: 90.00%\n",
            "Epoch [1/5], Step [600/6000], Loss: 0.1903, Accuracy: 90.00%\n",
            "Epoch [1/5], Step [700/6000], Loss: 0.0619, Accuracy: 100.00%\n",
            "Epoch [1/5], Step [800/6000], Loss: 0.4707, Accuracy: 80.00%\n",
            "Epoch [1/5], Step [900/6000], Loss: 0.6255, Accuracy: 80.00%\n",
            "Epoch [1/5], Step [1000/6000], Loss: 1.6174, Accuracy: 70.00%\n",
            "Epoch [1/5], Step [1100/6000], Loss: 0.0934, Accuracy: 90.00%\n",
            "Epoch [1/5], Step [1200/6000], Loss: 0.4322, Accuracy: 90.00%\n",
            "Epoch [1/5], Step [1300/6000], Loss: 0.0545, Accuracy: 100.00%\n",
            "Epoch [1/5], Step [1400/6000], Loss: 0.0254, Accuracy: 100.00%\n",
            "Epoch [1/5], Step [1500/6000], Loss: 0.1996, Accuracy: 90.00%\n",
            "Epoch [1/5], Step [1600/6000], Loss: 0.1720, Accuracy: 90.00%\n",
            "Epoch [1/5], Step [1700/6000], Loss: 0.1746, Accuracy: 90.00%\n",
            "Epoch [1/5], Step [1800/6000], Loss: 0.0400, Accuracy: 100.00%\n",
            "Epoch [1/5], Step [1900/6000], Loss: 0.0633, Accuracy: 100.00%\n",
            "Epoch [1/5], Step [2000/6000], Loss: 0.4554, Accuracy: 90.00%\n",
            "Epoch [1/5], Step [2100/6000], Loss: 0.0706, Accuracy: 100.00%\n",
            "Epoch [1/5], Step [2200/6000], Loss: 0.4827, Accuracy: 80.00%\n",
            "Epoch [1/5], Step [2300/6000], Loss: 0.7257, Accuracy: 60.00%\n",
            "Epoch [1/5], Step [2400/6000], Loss: 0.1904, Accuracy: 90.00%\n",
            "Epoch [1/5], Step [2500/6000], Loss: 0.4152, Accuracy: 80.00%\n",
            "Epoch [1/5], Step [2600/6000], Loss: 1.1453, Accuracy: 80.00%\n",
            "Epoch [1/5], Step [2700/6000], Loss: 0.1958, Accuracy: 90.00%\n",
            "Epoch [1/5], Step [2800/6000], Loss: 0.6209, Accuracy: 80.00%\n",
            "Epoch [1/5], Step [2900/6000], Loss: 0.3153, Accuracy: 80.00%\n",
            "Epoch [1/5], Step [3000/6000], Loss: 0.2006, Accuracy: 90.00%\n",
            "Epoch [1/5], Step [3100/6000], Loss: 0.0275, Accuracy: 100.00%\n",
            "Epoch [1/5], Step [3200/6000], Loss: 0.1038, Accuracy: 90.00%\n",
            "Epoch [1/5], Step [3300/6000], Loss: 0.1659, Accuracy: 90.00%\n",
            "Epoch [1/5], Step [3400/6000], Loss: 0.0356, Accuracy: 100.00%\n",
            "Epoch [1/5], Step [3500/6000], Loss: 0.2345, Accuracy: 90.00%\n",
            "Epoch [1/5], Step [3600/6000], Loss: 0.0299, Accuracy: 100.00%\n",
            "Epoch [1/5], Step [3700/6000], Loss: 0.0006, Accuracy: 100.00%\n",
            "Epoch [1/5], Step [3800/6000], Loss: 0.3859, Accuracy: 90.00%\n",
            "Epoch [1/5], Step [3900/6000], Loss: 0.4855, Accuracy: 90.00%\n",
            "Epoch [1/5], Step [4000/6000], Loss: 0.0309, Accuracy: 100.00%\n",
            "Epoch [1/5], Step [4100/6000], Loss: 0.0657, Accuracy: 100.00%\n",
            "Epoch [1/5], Step [4200/6000], Loss: 0.0551, Accuracy: 100.00%\n",
            "Epoch [1/5], Step [4300/6000], Loss: 0.0110, Accuracy: 100.00%\n",
            "Epoch [1/5], Step [4400/6000], Loss: 0.5177, Accuracy: 80.00%\n",
            "Epoch [1/5], Step [4500/6000], Loss: 0.1718, Accuracy: 90.00%\n",
            "Epoch [1/5], Step [4600/6000], Loss: 0.3729, Accuracy: 90.00%\n",
            "Epoch [1/5], Step [4700/6000], Loss: 0.2007, Accuracy: 90.00%\n",
            "Epoch [1/5], Step [4800/6000], Loss: 0.0110, Accuracy: 100.00%\n",
            "Epoch [1/5], Step [4900/6000], Loss: 0.0037, Accuracy: 100.00%\n",
            "Epoch [1/5], Step [5000/6000], Loss: 0.0748, Accuracy: 100.00%\n",
            "Epoch [1/5], Step [5100/6000], Loss: 0.1899, Accuracy: 90.00%\n",
            "Epoch [1/5], Step [5200/6000], Loss: 0.0655, Accuracy: 100.00%\n",
            "Epoch [1/5], Step [5300/6000], Loss: 0.0356, Accuracy: 100.00%\n",
            "Epoch [1/5], Step [5400/6000], Loss: 0.0078, Accuracy: 100.00%\n",
            "Epoch [1/5], Step [5500/6000], Loss: 0.1156, Accuracy: 90.00%\n",
            "Epoch [1/5], Step [5600/6000], Loss: 0.1596, Accuracy: 90.00%\n",
            "Epoch [1/5], Step [5700/6000], Loss: 0.2241, Accuracy: 90.00%\n",
            "Epoch [1/5], Step [5800/6000], Loss: 0.0938, Accuracy: 90.00%\n",
            "Epoch [1/5], Step [5900/6000], Loss: 0.2934, Accuracy: 90.00%\n",
            "Epoch [1/5], Step [6000/6000], Loss: 0.8334, Accuracy: 80.00%\n",
            "Epoch [2/5], Step [100/6000], Loss: 0.1538, Accuracy: 90.00%\n",
            "Epoch [2/5], Step [200/6000], Loss: 0.0195, Accuracy: 100.00%\n",
            "Epoch [2/5], Step [300/6000], Loss: 0.0839, Accuracy: 100.00%\n",
            "Epoch [2/5], Step [400/6000], Loss: 0.0212, Accuracy: 100.00%\n",
            "Epoch [2/5], Step [500/6000], Loss: 0.0796, Accuracy: 90.00%\n",
            "Epoch [2/5], Step [600/6000], Loss: 0.5422, Accuracy: 90.00%\n",
            "Epoch [2/5], Step [700/6000], Loss: 0.1058, Accuracy: 100.00%\n",
            "Epoch [2/5], Step [800/6000], Loss: 0.0198, Accuracy: 100.00%\n",
            "Epoch [2/5], Step [900/6000], Loss: 0.0321, Accuracy: 100.00%\n",
            "Epoch [2/5], Step [1000/6000], Loss: 0.1080, Accuracy: 90.00%\n",
            "Epoch [2/5], Step [1100/6000], Loss: 0.1266, Accuracy: 100.00%\n",
            "Epoch [2/5], Step [1200/6000], Loss: 0.0932, Accuracy: 100.00%\n",
            "Epoch [2/5], Step [1300/6000], Loss: 0.0512, Accuracy: 100.00%\n",
            "Epoch [2/5], Step [1400/6000], Loss: 0.5771, Accuracy: 70.00%\n",
            "Epoch [2/5], Step [1500/6000], Loss: 0.0108, Accuracy: 100.00%\n",
            "Epoch [2/5], Step [1600/6000], Loss: 0.1066, Accuracy: 90.00%\n",
            "Epoch [2/5], Step [1700/6000], Loss: 0.0265, Accuracy: 100.00%\n",
            "Epoch [2/5], Step [1800/6000], Loss: 0.0158, Accuracy: 100.00%\n",
            "Epoch [2/5], Step [1900/6000], Loss: 0.3472, Accuracy: 90.00%\n",
            "Epoch [2/5], Step [2000/6000], Loss: 0.0142, Accuracy: 100.00%\n",
            "Epoch [2/5], Step [2100/6000], Loss: 0.0116, Accuracy: 100.00%\n",
            "Epoch [2/5], Step [2200/6000], Loss: 0.1649, Accuracy: 90.00%\n",
            "Epoch [2/5], Step [2300/6000], Loss: 0.1267, Accuracy: 100.00%\n",
            "Epoch [2/5], Step [2400/6000], Loss: 0.0241, Accuracy: 100.00%\n",
            "Epoch [2/5], Step [2500/6000], Loss: 0.1568, Accuracy: 90.00%\n",
            "Epoch [2/5], Step [2600/6000], Loss: 0.0030, Accuracy: 100.00%\n",
            "Epoch [2/5], Step [2700/6000], Loss: 0.3795, Accuracy: 90.00%\n",
            "Epoch [2/5], Step [2800/6000], Loss: 0.0118, Accuracy: 100.00%\n",
            "Epoch [2/5], Step [2900/6000], Loss: 0.0631, Accuracy: 100.00%\n",
            "Epoch [2/5], Step [3000/6000], Loss: 0.0977, Accuracy: 100.00%\n",
            "Epoch [2/5], Step [3100/6000], Loss: 0.0025, Accuracy: 100.00%\n",
            "Epoch [2/5], Step [3200/6000], Loss: 0.0300, Accuracy: 100.00%\n",
            "Epoch [2/5], Step [3300/6000], Loss: 0.0012, Accuracy: 100.00%\n",
            "Epoch [2/5], Step [3400/6000], Loss: 0.0385, Accuracy: 100.00%\n",
            "Epoch [2/5], Step [3500/6000], Loss: 0.3261, Accuracy: 90.00%\n",
            "Epoch [2/5], Step [3600/6000], Loss: 0.0004, Accuracy: 100.00%\n",
            "Epoch [2/5], Step [3700/6000], Loss: 0.0019, Accuracy: 100.00%\n",
            "Epoch [2/5], Step [3800/6000], Loss: 0.9412, Accuracy: 80.00%\n",
            "Epoch [2/5], Step [3900/6000], Loss: 0.6698, Accuracy: 90.00%\n",
            "Epoch [2/5], Step [4000/6000], Loss: 0.5891, Accuracy: 90.00%\n",
            "Epoch [2/5], Step [4100/6000], Loss: 0.0028, Accuracy: 100.00%\n",
            "Epoch [2/5], Step [4200/6000], Loss: 0.0110, Accuracy: 100.00%\n",
            "Epoch [2/5], Step [4300/6000], Loss: 0.0287, Accuracy: 100.00%\n",
            "Epoch [2/5], Step [4400/6000], Loss: 0.0093, Accuracy: 100.00%\n",
            "Epoch [2/5], Step [4500/6000], Loss: 0.0014, Accuracy: 100.00%\n",
            "Epoch [2/5], Step [4600/6000], Loss: 0.0077, Accuracy: 100.00%\n",
            "Epoch [2/5], Step [4700/6000], Loss: 0.0462, Accuracy: 100.00%\n",
            "Epoch [2/5], Step [4800/6000], Loss: 0.0155, Accuracy: 100.00%\n",
            "Epoch [2/5], Step [4900/6000], Loss: 0.0168, Accuracy: 100.00%\n",
            "Epoch [2/5], Step [5000/6000], Loss: 0.0009, Accuracy: 100.00%\n",
            "Epoch [2/5], Step [5100/6000], Loss: 0.2376, Accuracy: 90.00%\n",
            "Epoch [2/5], Step [5200/6000], Loss: 0.0045, Accuracy: 100.00%\n",
            "Epoch [2/5], Step [5300/6000], Loss: 0.0883, Accuracy: 100.00%\n",
            "Epoch [2/5], Step [5400/6000], Loss: 0.1505, Accuracy: 90.00%\n",
            "Epoch [2/5], Step [5500/6000], Loss: 0.0002, Accuracy: 100.00%\n",
            "Epoch [2/5], Step [5600/6000], Loss: 0.1075, Accuracy: 90.00%\n",
            "Epoch [2/5], Step [5700/6000], Loss: 0.0089, Accuracy: 100.00%\n",
            "Epoch [2/5], Step [5800/6000], Loss: 0.0035, Accuracy: 100.00%\n",
            "Epoch [2/5], Step [5900/6000], Loss: 0.0435, Accuracy: 100.00%\n",
            "Epoch [2/5], Step [6000/6000], Loss: 0.0076, Accuracy: 100.00%\n"
          ],
          "name": "stdout"
        }
      ]
    },
    {
      "cell_type": "code",
      "metadata": {
        "id": "hXw949EEcAiB",
        "outputId": "bb34a5ff-fcac-45d3-de6a-577fd45ef84e"
      },
      "source": [
        "model.eval()\n",
        "with torch.no_grad():\n",
        "    correct = 0\n",
        "    total = 0\n",
        "    for images, labels in test_loader:\n",
        "        outputs = model(images)\n",
        "        _, predicted = torch.max(outputs.data, 1)\n",
        "        total += labels.size(0)\n",
        "        correct += (predicted == labels).sum().item()\n",
        "\n",
        "    print('Test Accuracy of the model on the 10000 test images: {} %'.format((correct / total) * 100))\n",
        "\n",
        "# Save the model and plot\n",
        "torch.save(model.state_dict(), MODEL_STORE_PATH + 'conv_net_model.ckpt')"
      ],
      "execution_count": null,
      "outputs": [
        {
          "output_type": "stream",
          "text": [
            "Test Accuracy of the model on the 10000 test images: 98.29 %\n"
          ],
          "name": "stdout"
        }
      ]
    },
    {
      "cell_type": "code",
      "metadata": {
        "id": "0w7tr5qlcAiB"
      },
      "source": [
        "valid_loss_list=[]\n",
        "for images, labels in test_loader:\n",
        "        output = model(images)\n",
        "        loss = F.poisson_nll_loss(output,labels)\n",
        "        valid_loss_list.append(loss.item())\n",
        "        "
      ],
      "execution_count": null,
      "outputs": []
    },
    {
      "cell_type": "code",
      "metadata": {
        "id": "kk7ZC4pjcAiC",
        "outputId": "2a40de9a-2717-4d28-f960-3cc46932a969"
      },
      "source": [
        "import matplotlib.pyplot as plt\n",
        "plt.plot(loss_list)\n",
        "plt.xlabel('Epochs')\n",
        "plt.ylabel('Loss')"
      ],
      "execution_count": null,
      "outputs": [
        {
          "output_type": "execute_result",
          "data": {
            "text/plain": [
              "Text(0, 0.5, 'Loss')"
            ]
          },
          "metadata": {
            "tags": []
          },
          "execution_count": 30
        },
        {
          "output_type": "display_data",
          "data": {
            "image/png": "[encoded data removed]",
            "text/plain": [
              "<Figure size 432x288 with 1 Axes>"
            ]
          },
          "metadata": {
            "tags": [],
            "needs_background": "light"
          }
        }
      ]
    },
    {
      "cell_type": "code",
      "metadata": {
        "id": "CBc760NacAiC",
        "outputId": "e2532cd6-a0c8-4b08-a69c-61d517b6aa13"
      },
      "source": [
        "plt.plot(valid_loss_list)\n",
        "\n"
      ],
      "execution_count": null,
      "outputs": [
        {
          "output_type": "execute_result",
          "data": {
            "text/plain": [
              "[<matplotlib.lines.Line2D at 0x7fe0aa333b80>]"
            ]
          },
          "metadata": {
            "tags": []
          },
          "execution_count": 31
        },
        {
          "output_type": "display_data",
          "data": {
            "image/png": "[encoded data removed]",
            "text/plain": [
              "<Figure size 432x288 with 1 Axes>"
            ]
          },
          "metadata": {
            "tags": [],
            "needs_background": "light"
          }
        }
      ]
    },
    {
      "cell_type": "code",
      "metadata": {
        "id": "D0I-Nz8XcAiD"
      },
      "source": [
        ""
      ],
      "execution_count": null,
      "outputs": []
    }
  ]
}