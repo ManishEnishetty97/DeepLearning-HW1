{
  "nbformat": 4,
  "nbformat_minor": 0,
  "metadata": {
    "kernelspec": {
      "display_name": "Python 3",
      "language": "python",
      "name": "python3"
    },
    "language_info": {
      "codemirror_mode": {
        "name": "ipython",
        "version": 3
      },
      "file_extension": ".py",
      "mimetype": "text/x-python",
      "name": "python",
      "nbconvert_exporter": "python",
      "pygments_lexer": "ipython3",
      "version": "3.8.5"
    },
    "colab": {
      "name": "Deep_fun2.ipynb",
      "provenance": [],
      "include_colab_link": true
    }
  },
  "cells": [
    {
      "cell_type": "markdown",
      "metadata": {
        "id": "view-in-github",
        "colab_type": "text"
      },
      "source": [
        "<a href=\"https://colab.research.google.com/github/ManishEnishetty97/DeepLearning-HW1/blob/main/Deep_fun2.ipynb\" target=\"_parent\"><img src=\"https://colab.research.google.com/assets/colab-badge.svg\" alt=\"Open In Colab\"/></a>"
      ]
    },
    {
      "cell_type": "code",
      "metadata": {
        "colab": {
          "base_uri": "https://localhost:8080/"
        },
        "id": "zq4bwygGOxpH",
        "outputId": "086eb8e5-0a3a-41cc-8ea8-da2e456cdb90"
      },
      "source": [
        "import tensorflow.compat.v1 as tf\n",
        "tf.disable_v2_behavior()\n",
        "import matplotlib.pyplot as plt\n",
        "import numpy as np\n",
        "tf.compat.v1.disable_eager_execution()\n",
        "sess = tf.InteractiveSession()"
      ],
      "execution_count": 2,
      "outputs": [
        {
          "output_type": "stream",
          "text": [
            "WARNING:tensorflow:From /usr/local/lib/python3.6/dist-packages/tensorflow/python/compat/v2_compat.py:96: disable_resource_variables (from tensorflow.python.ops.variable_scope) is deprecated and will be removed in a future version.\n",
            "Instructions for updating:\n",
            "non-resource variables are not supported in the long term\n"
          ],
          "name": "stdout"
        }
      ]
    },
    {
      "cell_type": "code",
      "metadata": {
        "colab": {
          "base_uri": "https://localhost:8080/"
        },
        "id": "CsE6TlXvOxpO",
        "outputId": "65c96542-8f75-40c9-9b4c-e999bd56960a"
      },
      "source": [
        "X =np.expand_dims(np.arange(0.0,3.0,.01),1)\n",
        "Y =np.tanh(X**2)\n",
        "x = tf.placeholder(tf.float64, [300,1],name='x')\n",
        "y = tf.placeholder(tf.float64, [300,1],name='y')\n",
        "loss_list1=[]\n",
        "YP=[]\n",
        "\n",
        "input_layer = tf.layers.dense(x, 300, activation= tf.nn.relu)\n",
        "hidden_layer1 = tf.layers.dropout(input_layer,.2)\n",
        "hidden_layer2 = tf.layers.dense(hidden_layer1,2,activation=tf.nn.relu)\n",
        "hidden_layer3 = tf.layers.dense(hidden_layer2,3,activation=tf.nn.relu)\n",
        "output_layer = tf.layers.dense(hidden_layer3,1)\n",
        "Loss =tf.losses.mean_squared_error(y , output_layer)\n",
        "Optimizer = tf.train.AdamOptimizer(learning_rate= 0.001).minimize(Loss)\n",
        "init = tf.global_variables_initializer()\n",
        "sess.run(init)\n",
        "for i in range(0,1000):\n",
        "    fd ={x:X, y:Y}\n",
        "    _, loss_val1 = sess.run([Optimizer, Loss], feed_dict=fd)\n",
        "    #print ('loss = %s' % loss_val)\n",
        "    loss_list1.append(loss_val1)\n",
        "YP = sess.run(output_layer,feed_dict={x:X})\n"
      ],
      "execution_count": 3,
      "outputs": [
        {
          "output_type": "stream",
          "text": [
            "/usr/local/lib/python3.6/dist-packages/tensorflow/python/keras/legacy_tf_layers/core.py:171: UserWarning: `tf.layers.dense` is deprecated and will be removed in a future version. Please use `tf.keras.layers.Dense` instead.\n",
            "  warnings.warn('`tf.layers.dense` is deprecated and '\n",
            "/usr/local/lib/python3.6/dist-packages/tensorflow/python/keras/engine/base_layer_v1.py:1719: UserWarning: `layer.apply` is deprecated and will be removed in a future version. Please use `layer.__call__` method instead.\n",
            "  warnings.warn('`layer.apply` is deprecated and '\n",
            "/usr/local/lib/python3.6/dist-packages/tensorflow/python/keras/legacy_tf_layers/core.py:268: UserWarning: `tf.layers.dropout` is deprecated and will be removed in a future version. Please use `tf.keras.layers.Dropout` instead.\n",
            "  warnings.warn('`tf.layers.dropout` is deprecated and '\n"
          ],
          "name": "stderr"
        }
      ]
    },
    {
      "cell_type": "code",
      "metadata": {
        "colab": {
          "base_uri": "https://localhost:8080/",
          "height": 295
        },
        "id": "C-fnSAPEOxpP",
        "outputId": "479d2acc-b939-4343-a614-a2ed92a54410"
      },
      "source": [
        "# Plot training  loss values\n",
        "plt.plot(loss_list1,color='magenta')\n",
        "plt.title('Model loss')\n",
        "plt.ylabel('Loss')\n",
        "plt.xlabel('Epoch')\n",
        "plt.show()\n"
      ],
      "execution_count": 4,
      "outputs": [
        {
          "output_type": "display_data",
          "data": {
            "image/png": "[encoded data removed]",
            "text/plain": [
              "<Figure size 432x288 with 1 Axes>"
            ]
          },
          "metadata": {
            "tags": [],
            "needs_background": "light"
          }
        }
      ]
    },
    {
      "cell_type": "code",
      "metadata": {
        "colab": {
          "base_uri": "https://localhost:8080/",
          "height": 282
        },
        "id": "zOuubyKFOxpP",
        "outputId": "fd2784ef-6c28-489d-ca11-7969a681aae5"
      },
      "source": [
        "plt.plot(X,Y,label='predicted')\n",
        "plt.plot(X,YP,label='ground truth')\n",
        "plt.legend(loc='upper right')"
      ],
      "execution_count": 5,
      "outputs": [
        {
          "output_type": "execute_result",
          "data": {
            "text/plain": [
              "<matplotlib.legend.Legend at 0x7f8f9f62a3c8>"
            ]
          },
          "metadata": {
            "tags": []
          },
          "execution_count": 5
        },
        {
          "output_type": "display_data",
          "data": {
            "image/png": "[encoded data removed]",
            "text/plain": [
              "<Figure size 432x288 with 1 Axes>"
            ]
          },
          "metadata": {
            "tags": [],
            "needs_background": "light"
          }
        }
      ]
    },
    {
      "cell_type": "code",
      "metadata": {
        "id": "_nzOQNPPOxpQ"
      },
      "source": [
        ""
      ],
      "execution_count": null,
      "outputs": []
    },
    {
      "cell_type": "code",
      "metadata": {
        "id": "wJMIs5qEOxpQ"
      },
      "source": [
        ""
      ],
      "execution_count": null,
      "outputs": []
    },
    {
      "cell_type": "code",
      "metadata": {
        "id": "FNlNCwMmOxpQ"
      },
      "source": [
        ""
      ],
      "execution_count": null,
      "outputs": []
    },
    {
      "cell_type": "code",
      "metadata": {
        "id": "g6BeqjOTOxpQ"
      },
      "source": [
        ""
      ],
      "execution_count": null,
      "outputs": []
    }
  ]
}