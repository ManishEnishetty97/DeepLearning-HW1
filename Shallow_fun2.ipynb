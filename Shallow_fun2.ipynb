{
  "nbformat": 4,
  "nbformat_minor": 0,
  "metadata": {
    "kernelspec": {
      "display_name": "Python 3",
      "language": "python",
      "name": "python3"
    },
    "language_info": {
      "codemirror_mode": {
        "name": "ipython",
        "version": 3
      },
      "file_extension": ".py",
      "mimetype": "text/x-python",
      "name": "python",
      "nbconvert_exporter": "python",
      "pygments_lexer": "ipython3",
      "version": "3.8.5"
    },
    "colab": {
      "name": "Shallow_fun2.ipynb",
      "provenance": [],
      "include_colab_link": true
    }
  },
  "cells": [
    {
      "cell_type": "markdown",
      "metadata": {
        "id": "view-in-github",
        "colab_type": "text"
      },
      "source": [
        "<a href=\"https://colab.research.google.com/github/ManishEnishetty97/DeepLearning-HW1/blob/main/Shallow_fun2.ipynb\" target=\"_parent\"><img src=\"https://colab.research.google.com/assets/colab-badge.svg\" alt=\"Open In Colab\"/></a>"
      ]
    },
    {
      "cell_type": "code",
      "metadata": {
        "id": "P0GmWaRRLlpO",
        "outputId": "02d44c55-2806-45df-afc7-42bca160c560"
      },
      "source": [
        "import tensorflow.compat.v1 as tf\n",
        "tf.disable_v2_behavior()\n",
        "import matplotlib.pyplot as plt\n",
        "import numpy as np\n",
        "tf.compat.v1.disable_eager_execution()\n",
        "sess = tf.InteractiveSession()"
      ],
      "execution_count": null,
      "outputs": [
        {
          "output_type": "stream",
          "text": [
            "WARNING:tensorflow:From /Users/manish/opt/anaconda3/lib/python3.8/site-packages/tensorflow/python/compat/v2_compat.py:96: disable_resource_variables (from tensorflow.python.ops.variable_scope) is deprecated and will be removed in a future version.\n",
            "Instructions for updating:\n",
            "non-resource variables are not supported in the long term\n"
          ],
          "name": "stdout"
        }
      ]
    },
    {
      "cell_type": "code",
      "metadata": {
        "id": "eLhwX-RnLlpT",
        "outputId": "e208b325-51ab-479a-b509-a3c7cd8e3973"
      },
      "source": [
        "X =np.expand_dims(np.arange(0.0,3.0,.01),1)\n",
        "Y =np.tanh(X)\n",
        "x = tf.placeholder(tf.float64, [300,1],name='x')\n",
        "y = tf.placeholder(tf.float64, [300,1],name='y')\n",
        "loss_list1=[]\n",
        "YP=[]\n",
        "\n",
        "\n",
        "\n",
        "input_layer = tf.layers.dense(x, 300, activation= tf.nn.relu)\n",
        "hidden_layer1 = tf.layers.dense(input_layer,units=10)\n",
        "output_layer = tf.layers.dense(hidden_layer1,1)\n",
        "Loss =tf.losses.mean_squared_error(y , output_layer)\n",
        "Optimizer = tf.train.AdamOptimizer(learning_rate= 0.0001).minimize(Loss)\n",
        "init = tf.global_variables_initializer()\n"
      ],
      "execution_count": null,
      "outputs": [
        {
          "output_type": "stream",
          "text": [
            "/Users/manish/opt/anaconda3/lib/python3.8/site-packages/tensorflow/python/keras/legacy_tf_layers/core.py:171: UserWarning: `tf.layers.dense` is deprecated and will be removed in a future version. Please use `tf.keras.layers.Dense` instead.\n",
            "  warnings.warn('`tf.layers.dense` is deprecated and '\n",
            "/Users/manish/opt/anaconda3/lib/python3.8/site-packages/tensorflow/python/keras/engine/base_layer_v1.py:1719: UserWarning: `layer.apply` is deprecated and will be removed in a future version. Please use `layer.__call__` method instead.\n",
            "  warnings.warn('`layer.apply` is deprecated and '\n"
          ],
          "name": "stderr"
        }
      ]
    },
    {
      "cell_type": "code",
      "metadata": {
        "id": "8uScGv_YLlpV"
      },
      "source": [
        "sess.run(init)\n",
        "\n",
        "for i in range(0,1000):\n",
        "    fd ={x:X, y:Y}\n",
        "    _, loss_val1 = sess.run([Optimizer, Loss], feed_dict=fd)\n",
        "  #print ('loss = %s' % loss_val)\n",
        "    loss_list1.append(loss_val1)\n",
        "    YP = sess.run(output_layer,feed_dict={x:X})"
      ],
      "execution_count": null,
      "outputs": []
    },
    {
      "cell_type": "code",
      "metadata": {
        "id": "olDREuijLlpV",
        "outputId": "a4b0971b-e44e-4ccd-e6ff-4265448193c7"
      },
      "source": [
        "import matplotlib.pyplot as plt\n",
        "plt.plot(loss_list1)\n",
        "plt.title('Model loss')\n",
        "plt.ylabel('Loss')\n",
        "plt.xlabel('Epoch')\n",
        "plt.show()"
      ],
      "execution_count": null,
      "outputs": [
        {
          "output_type": "display_data",
          "data": {
            "image/png": "[encoded data removed]",
            "text/plain": [
              "<Figure size 432x288 with 1 Axes>"
            ]
          },
          "metadata": {
            "tags": [],
            "needs_background": "light"
          }
        }
      ]
    },
    {
      "cell_type": "code",
      "metadata": {
        "id": "Bm7fQPr-LlpW",
        "outputId": "3e4d5e25-2569-4dcc-e945-2b1682d5b1b0"
      },
      "source": [
        "plt.plot(X,Y)\n",
        "plt.plot(X,YP)\n",
        "plt.show()"
      ],
      "execution_count": null,
      "outputs": [
        {
          "output_type": "display_data",
          "data": {
            "image/png": "[encoded data removed]",
            "text/plain": [
              "<Figure size 432x288 with 1 Axes>"
            ]
          },
          "metadata": {
            "tags": [],
            "needs_background": "light"
          }
        }
      ]
    },
    {
      "cell_type": "code",
      "metadata": {
        "id": "vnatRQbILlpX"
      },
      "source": [
        ""
      ],
      "execution_count": null,
      "outputs": []
    },
    {
      "cell_type": "code",
      "metadata": {
        "id": "VOAJPjBILlpY"
      },
      "source": [
        ""
      ],
      "execution_count": null,
      "outputs": []
    }
  ]
}